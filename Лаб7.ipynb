{
  "nbformat": 4,
  "nbformat_minor": 0,
  "metadata": {
    "colab": {
      "name": "Лаб7.ipynb",
      "provenance": []
    },
    "kernelspec": {
      "name": "python3",
      "display_name": "Python 3"
    }
  },
  "cells": [
    {
      "cell_type": "code",
      "metadata": {
        "colab": {
          "base_uri": "https://localhost:8080/"
        },
        "id": "OUV0Z-_cj63O",
        "outputId": "e2f6da4e-9cff-41c2-a20f-e1249eca61cf"
      },
      "source": [
        "# Программирование на языке высокого уровня (Python).\r\n",
        "# https://www.yuripetrov.ru/edu/python\r\n",
        "# Задание task_07_02_01.\r\n",
        "#\r\n",
        "# Выполнил: Шепелева Е.В.\r\n",
        "# Группа: АДЭУ-201\r\n",
        "\r\n",
        "\r\n",
        "\r\n",
        "\"\"\"\r\n",
        "Ошибки (номера строк через пробел, данная строка - №2): !!!\r\n",
        "\"\"\"\r\n",
        "\r\n",
        "\r\n",
        "def sum_of_digits(n):\r\n",
        "    \"\"\"Вернуть сумму цифр меньших 5 для положительного целого числа `n`.\r\n",
        "    Если таких цифр нет, вернуть 0.\"\"\"\r\n",
        "    c = 0 # была русская с\r\n",
        "    while n > 0:\r\n",
        "        digit = n % 10 #в переменную digit записывался результат деления числа на 10, а не цифра\r\n",
        "        if digit < 5:\r\n",
        "            c = c + digit #происходил подсчет цифр меньше 5, а необходима сумма\r\n",
        "        n //= 10\r\n",
        "    return c #функция возвращала 1 цифру числа, необходим возврат суммы цифр\r\n",
        "\r\n",
        "print(sum_of_digits(1234567))"
      ],
      "execution_count": null,
      "outputs": [
        {
          "output_type": "stream",
          "text": [
            "10\n"
          ],
          "name": "stdout"
        }
      ]
    },
    {
      "cell_type": "code",
      "metadata": {
        "colab": {
          "base_uri": "https://localhost:8080/"
        },
        "id": "CEcPWveHmcDi",
        "outputId": "57489244-92a3-4ce4-afcb-f9112370157d"
      },
      "source": [
        "# Программирование на языке высокого уровня (Python).\r\n",
        "# https://www.yuripetrov.ru/edu/python\r\n",
        "# Задание task_07_02_02.\r\n",
        "#\r\n",
        "# Выполнил: Шепелева Е.В.\r\n",
        "# Группа: АДЭУ-201\r\n",
        "\r\n",
        "\r\n",
        "\"\"\"\r\n",
        "Ошибки (номера строк через пробел, данная строка - №2): !!!\r\n",
        "\"\"\"\r\n",
        "\r\n",
        "\r\n",
        "def primes(a, b):\r\n",
        "    \"\"\"Вернуть список простых чисел на отрезке от 'a' до 'b'.\"\"\"\r\n",
        "    res = []\r\n",
        "    \r\n",
        "    for i in range(a, b + 1): #добавила к b (+1), так как необходим перебор до последнего числа\r\n",
        "      c = 0\r\n",
        "      for j in range(i): #эта и предыдущая строка были поменяны местами,так как с должно обнуляться каждый раз\r\n",
        "            if i % (j + 1) == 0:\r\n",
        "                c += 1\r\n",
        "      if c == 2: #исправила отступы\r\n",
        "         res.append(i)\r\n",
        "\r\n",
        "    return res\r\n",
        "\r\n",
        "print(primes(1, 100))"
      ],
      "execution_count": null,
      "outputs": [
        {
          "output_type": "stream",
          "text": [
            "[2, 3, 5, 7, 11, 13, 17, 19, 23, 29, 31, 37, 41, 43, 47, 53, 59, 61, 67, 71, 73, 79, 83, 89, 97]\n"
          ],
          "name": "stdout"
        }
      ]
    },
    {
      "cell_type": "code",
      "metadata": {
        "id": "R1pX-rhIoBvB"
      },
      "source": [
        "# Программирование на языке высокого уровня (Python).\r\n",
        "# https://www.yuripetrov.ru/edu/python\r\n",
        "# Задание task_07_02_03.\r\n",
        "#\r\n",
        "# Выполнил: Шепелева Е.В.\r\n",
        "# Группа: АДЭУ-201\r\n",
        "\r\n",
        "\r\n",
        "\"\"\"\r\n",
        "Ошибки (номера строк через пробел, данная строка - №2): !!!\r\n",
        "\"\"\"\r\n",
        "\r\n",
        "\r\n",
        "def first_vacant_row(seats):\r\n",
        "    \"\"\"Вернуть первый ряд, в котором имеется больше всего\r\n",
        "    свободных мест и их количество.\r\n",
        "\r\n",
        "    Возвращаемая нумерация рядов с 1. Если свободных мест нет, вернуть 0, 0.\r\n",
        "\r\n",
        "    Параметры:\r\n",
        "        - seats (list of list): информация о проданных билетах\r\n",
        "                                (1 - продано, 0 - нет).\r\n",
        "\r\n",
        "    Результат:\r\n",
        "        - tuple (ряд, количество мест).\r\n",
        "    \"\"\"\r\n",
        "    max_count = 0\r\n",
        "    max_row = 0\r\n",
        "    for row_index, row in enumerate(seats):\r\n",
        "        available_seats_count = row.count(0)  # 0 - пусто\r\n",
        "        if available_seats_count > max_count: #знак >= не подходит\r\n",
        "            max_row = row_index\r\n",
        "            max_count = available_seats_count\r\n",
        "\r\n",
        "    return max_row + 1, max_count #добавила (+1), так как возвращалась нумерация с 0\r\n",
        "\r\n",
        "# import random\r\n",
        "#\r\n",
        "# random.seed(50)\r\n",
        "#\r\n",
        "# ROWS_MAX = 10\r\n",
        "# SEATS_MAX = 5\r\n",
        "#\r\n",
        "# seats = [[random.randint(0, 1) for seat in range(SEATS_MAX)]\r\n",
        "#                                for row in range(ROWS_MAX)]\r\n",
        "#\r\n",
        "# for seat in seats:\r\n",
        "#     print(seat)\r\n",
        "#\r\n",
        "# print(first_vacant_row(seats))\r\n"
      ],
      "execution_count": null,
      "outputs": []
    },
    {
      "cell_type": "code",
      "metadata": {
        "colab": {
          "base_uri": "https://localhost:8080/"
        },
        "id": "AyO4MVlUpa2i",
        "outputId": "011f5756-4a53-4c0b-ac91-61b1965747be"
      },
      "source": [
        "# Программирование на языке высокого уровня (Python).\r\n",
        "# https://www.yuripetrov.ru/edu/python\r\n",
        "# Задание task_07_02_04.\r\n",
        "#\r\n",
        "# Выполнил: Шепелева Е.В.\r\n",
        "# Группа: АДЭУ-201\r\n",
        "\r\n",
        "\r\n",
        "\"\"\"\r\n",
        "Ошибки (номера строк через пробел, данная строка - №2): !!!\r\n",
        "\"\"\"\r\n",
        "\r\n",
        "\r\n",
        "def min_pair(nums):\r\n",
        "    \"\"\"Вернуть минимальную сумму соседних 2-х чисел в списке 'nums'.\"\"\"\r\n",
        "    mini = nums[0] + nums[1] #вместо * нужна +. Перменная и функция должныиметь разные имена\r\n",
        "    for i in range(2, len(nums) - 1):#добавила (-1), перебор должен быть до предпоследнего числа\r\n",
        "        mini = min(nums[i] + nums[i + 1], mini) #Перменная и функция должныиметь разные имена\r\n",
        "\r\n",
        "    return mini #Перменная и функция должныиметь разные имена\r\n",
        "\r\n",
        "a = [1,2,3,4,5,6,7,8,9]\r\n",
        "print(min_pair(a))\r\n",
        "\r\n",
        "# import random\r\n",
        "#\r\n",
        "# random.seed(50)\r\n",
        "#\r\n",
        "# N_MAX = 10\r\n",
        "# RANGE_MIN = 1\r\n",
        "# RANGE_MAX = 100\r\n",
        "# nums = random.sample(range(RANGE_MIN, RANGE_MAX), N_MAX)\r\n",
        "#\r\n",
        "# print(nums)\r\n",
        "#\r\n",
        "# print(min_pair(nums))\r\n"
      ],
      "execution_count": null,
      "outputs": [
        {
          "output_type": "stream",
          "text": [
            "3\n"
          ],
          "name": "stdout"
        }
      ]
    },
    {
      "cell_type": "code",
      "metadata": {
        "colab": {
          "base_uri": "https://localhost:8080/"
        },
        "id": "pk_JMPdMq-uH",
        "outputId": "60fd19bc-afb1-4ec3-918f-cdae8757b96e"
      },
      "source": [
        "# Программирование на языке высокого уровня (Python).\r\n",
        "# https://www.yuripetrov.ru/edu/python\r\n",
        "# Задание task_07_02_05.\r\n",
        "#\r\n",
        "# Выполнил: Шепелева Е.В.\r\n",
        "# Группа: АДЭУ-201\r\n",
        "\r\n",
        "\r\n",
        "\"\"\"\r\n",
        "Ошибки (номера строк через пробел, данная строка - №2): !!!\r\n",
        "\"\"\"\r\n",
        "\r\n",
        "\r\n",
        "def non_negatives(nums):\r\n",
        "    \"\"\"Удалить из списка чисел 'nums' отрицательные элементы и вернуть\r\n",
        "    измененный список.\"\"\"\r\n",
        "    for i, n in enumerate(nums): #изменила на функцию для циклического перебора, так как до этого в качестве индекса использовался сам аргумент\r\n",
        "        if nums[i] < 0:\r\n",
        "            del nums[i]\r\n",
        "\r\n",
        "    return nums\r\n",
        "\r\n",
        "print(non_negatives([43, -775, 39, 9874, 868687, -94743]))\r\n",
        "\r\n",
        "# import random\r\n",
        "#\r\n",
        "# n = 10\r\n",
        "# nums = [round(random.uniform(-10, 10), 2) for i in range(n)]\r\n",
        "# print(nums)\r\n",
        "#\r\n",
        "# non_negatives(nums)\r\n",
        "# print(nums)\r\n"
      ],
      "execution_count": null,
      "outputs": [
        {
          "output_type": "stream",
          "text": [
            "[43, 39, 9874, 868687]\n"
          ],
          "name": "stdout"
        }
      ]
    },
    {
      "cell_type": "code",
      "metadata": {
        "colab": {
          "base_uri": "https://localhost:8080/"
        },
        "id": "2YGd5GVItANJ",
        "outputId": "0f8446c7-4db2-4092-f33c-6d51cdd937f9"
      },
      "source": [
        "# Программирование на языке высокого уровня (Python).\r\n",
        "# https://www.yuripetrov.ru/edu/python\r\n",
        "# Задание task_07_02_06.\r\n",
        "#\r\n",
        "# Выполнил: Шепелева Е.В.\r\n",
        "# Группа: АДЭУ-201\r\n",
        "\r\n",
        "\r\n",
        "\"\"\"\r\n",
        "Ошибки (номера строк через пробел, данная строка - №2): !!!\r\n",
        "\"\"\"\r\n",
        "\r\n",
        "def unemployment_rate(unemployed, employed):\r\n",
        "\r\n",
        "    \"\"\"Вернуть уровень безработицы (УБ) в долях 1.\r\n",
        "       Расчет по формуле: УБ = Безработные / (Занятые + Безработные).\r\n",
        "    \"\"\"\r\n",
        "\r\n",
        "    return unemployed / (unemployed + employed)\r\n",
        "\r\n",
        "try:\r\n",
        "\r\n",
        "    unemployed = int(input(\"Введите кол-во безработных (чел.): \"))\r\n",
        "    employed = int(input(\"Введите кол-во занятых (чел.): \"))\r\n",
        "    rate = unemployment_rate(unemployed, employed)\r\n",
        "\r\n",
        "    print(\"Уровень безработицы = {:.1%}\".format(rate))\r\n",
        "\r\n",
        "except ValueError as err:\r\n",
        "\r\n",
        "    print(\"Ошибка:\", err, \". Проверьте введенные числа.\")\r\n",
        "\r\n",
        "except ZeroDivisionError as err:\r\n",
        "\r\n",
        "    print(\"Ошибка:\", err, \". На ноль делить нельзя.\")"
      ],
      "execution_count": null,
      "outputs": [
        {
          "output_type": "stream",
          "text": [
            "Введите кол-во безработных (чел.): 3091\n",
            "Введите кол-во занятых (чел.): 34509\n",
            "Уровень безработицы = 8.2%\n"
          ],
          "name": "stdout"
        }
      ]
    }
  ]
}