{
  "nbformat": 4,
  "nbformat_minor": 0,
  "metadata": {
    "colab": {
      "name": "Лаб4.ipynb",
      "provenance": [],
      "collapsed_sections": []
    },
    "kernelspec": {
      "name": "python3",
      "display_name": "Python 3"
    }
  },
  "cells": [
    {
      "cell_type": "markdown",
      "metadata": {
        "id": "Gk3XttWNNJWh"
      },
      "source": [
        "№ 4.2.1\n",
        "\n",
        "\n",
        "Рассчитать значение f при заданном значении вещественного числа x:\n",
        "\n",
        "\n",
        "![Снимок.PNG](data:image/png;base64,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)\n",
        "\n",
        "\n",
        "При выводе на экран оставьте 2 знака после запятой."
      ]
    },
    {
      "cell_type": "code",
      "metadata": {
        "id": "qtUAcuv8MvAc",
        "outputId": "311bd20d-3a17-4be6-c5ab-45d35ce190dd",
        "colab": {
          "base_uri": "https://localhost:8080/",
          "height": 51
        }
      },
      "source": [
        "# Программирование на языке высокого уровня (Python).\n",
        "# https://www.yuripetrov.ru/edu/python\n",
        "# Задание task_04_02_01.\n",
        "#\n",
        "# Выполнил: Шепелева Е.В.\n",
        "# Группа: АДЭУ - 201\n",
        "# E-mail: 10lizok2002@gmail.com\n",
        "\n",
        "\n",
        "x = float(input(\"Введите число x: \"))\n",
        "\n",
        "if x >= 0:\n",
        "    f = x**0.5 + x**2\n",
        "    print(\"f =\", round(f, 2))\n",
        "else:\n",
        "    f = 1 / x\n",
        "    print(\"f =\", round(f, 2))\n",
        "# --------------\n",
        "# Пример вывода:\n",
        "#\n",
        "# Введите число x: -10\n",
        "# f = -0.10\n",
        "\n",
        "# Введите число x: 0\n",
        "# f = 0.00\n",
        "\n",
        "# Введите число x: 10\n",
        "# f = 103.16\n"
      ],
      "execution_count": null,
      "outputs": [
        {
          "output_type": "stream",
          "text": [
            "Введите число x: 10\n",
            "f = 103.16\n"
          ],
          "name": "stdout"
        }
      ]
    },
    {
      "cell_type": "markdown",
      "metadata": {
        "id": "9IAlNtjzS2Pt"
      },
      "source": [
        "№ 4.2.2\n",
        "\n",
        "Определите максимальное и минимальное значения из двух различных целых чисел."
      ]
    },
    {
      "cell_type": "code",
      "metadata": {
        "id": "jx2P97jNS7yQ",
        "outputId": "f96f1080-c15a-4772-f1b9-8c79f9284df8",
        "colab": {
          "base_uri": "https://localhost:8080/",
          "height": 68
        }
      },
      "source": [
        "# Программирование на языке высокого уровня (Python).\n",
        "# https://www.yuripetrov.ru/edu/python\n",
        "# Задание task_04_02_02.\n",
        "#\n",
        "# Выполнил: Шепелева Е.В.\n",
        "# Группа: АДЭУ - 201\n",
        "# E-mail: 10lizok2002@gmail.com\n",
        "\n",
        "  a1 = int(input(\"Введите первое число: \"))\n",
        "  a2 = int(input(\"Введите второе число: \"))\n",
        "  if (a1 >= a2) :\n",
        "    print (\"Максимум:\", a1, end=\" \")\n",
        "    print (\"Минимум:\", a2)\n",
        "  else:\n",
        "    print (\"Максимум:\", a2, end=\" \")\n",
        "    print (\"Минимум:\", a1)\n",
        "\n",
        "# --------------\n",
        "# Пример вывода:\n",
        "#\n",
        "# Введите первое число: 1\n",
        "# Введите второе число: 2\n",
        "# Максимум: 2, минимум: 1\n",
        "\n",
        "# Введите первое число: 5\n",
        "# Введите второе число: 5\n",
        "# Максимум: 5, минимум: 5\n",
        "\n",
        "# Введите первое число: 100\n",
        "# Введите второе число: -1\n",
        "# Максимум: 100, минимум: -1\n",
        "\n",
        "\n"
      ],
      "execution_count": null,
      "outputs": [
        {
          "output_type": "stream",
          "text": [
            "Введите первое число: 1\n",
            "Введите второе число: 2\n",
            "Максимум: 2 , Минимум: 1\n"
          ],
          "name": "stdout"
        }
      ]
    },
    {
      "cell_type": "markdown",
      "metadata": {
        "id": "JPOnrcH_WyRj"
      },
      "source": [
        "№ 4.2.3\n",
        "\n",
        "\n",
        "Вася пытается высунуть голову в форточку размерами a и b см. Приняв условно, что его голова - круглая диаметром d см, определите, сможет ли Вася сделать это. Для прохождения головы в форточку необходим зазор в 1 см. с каждой стороны.\n",
        "\n",
        "\n",
        "Все величины - целые числа."
      ]
    },
    {
      "cell_type": "code",
      "metadata": {
        "id": "i0DRomtYWxKR",
        "outputId": "3610bece-9864-469c-a669-a81e10218697",
        "colab": {
          "base_uri": "https://localhost:8080/",
          "height": 85
        }
      },
      "source": [
        "# Программирование на языке высокого уровня (Python).\n",
        "# https://www.yuripetrov.ru/edu/python\n",
        "# Задание task_04_02_03.\n",
        "#\n",
        "# Выполнил: Шепелева Е.В.\n",
        "# Группа: АДЭУ - 201\n",
        "# E-mail: 10lizok2002@gmail.com\n",
        "\n",
        "\n",
        "a = int(input(\"Ширина форточки:\"))\n",
        "b = int(input(\"Высота форточки:\"))\n",
        "d = int(input(\"Диаметр головы:\"))\n",
        "\n",
        "\n",
        "# Введенные числа должны быть положительными, если так - осуществляем\n",
        "# расчет, иначе выводим \"Проверьте ввод\"\n",
        "if (a > 0 and b > 0 and d > 0):\n",
        "  fix = 1 \n",
        "  if d < (a + fix) and d < (b + fix):\n",
        "    print(\"Да\")\n",
        "  else:\n",
        "    print(\"Нет\")\n",
        "else:\n",
        "   print(\"Проверьте ввод\")\n",
        "\n",
        "\n",
        "# --------------\n",
        "# Пример вывода:\n",
        "#\n",
        "# Ширина форточки: 5\n",
        "# Высота форточки: 6\n",
        "# Диаметр головы: 6\n",
        "# Нет\n",
        "\n",
        "# Ширина форточки: 6\n",
        "# Высота форточки: 7\n",
        "# Диаметр головы: 4\n",
        "# Да\n"
      ],
      "execution_count": null,
      "outputs": [
        {
          "output_type": "stream",
          "text": [
            "Ширина форточки:5\n",
            "Высота форточки:6\n",
            "Диаметр головы:6\n",
            "Нет\n"
          ],
          "name": "stdout"
        }
      ]
    },
    {
      "cell_type": "markdown",
      "metadata": {
        "id": "5OIzj5Csf4Ow"
      },
      "source": [
        "№ 4.2.4\n",
        "\n",
        "Известны год и номер месяца сегодняшнего дня, а также год и номер месяца рождения человека (нумерация месяцев с 1: январь - 1 и т.д.). Определите возраст человека (число полных лет)."
      ]
    },
    {
      "cell_type": "code",
      "metadata": {
        "id": "18IXZr0jf9S-",
        "outputId": "ecc8bb97-2611-4521-9139-99493a085914",
        "colab": {
          "base_uri": "https://localhost:8080/",
          "height": 102
        }
      },
      "source": [
        "# Программирование на языке высокого уровня (Python).\n",
        "# https://www.yuripetrov.ru/edu/python\n",
        "# Задание task_04_02_04.\n",
        "#\n",
        "# Выполнил: Шепелева Е.В.\n",
        "# Группа: АДЭУ - 201\n",
        "# E-mail: 10lizok2002@gmail.com\n",
        "\n",
        "year_today = int(input(\"Введите текущий год:\"))\n",
        "month_today = int(input(\"Введите текущий месяц:\"))\n",
        "\n",
        "year = int(input(\"Введите год рождения:\"))\n",
        "month = int(input(\"Введите месяц рождения:\"))\n",
        "\n",
        "# Считается, введенные значения находятся в допустимых пределах,и\n",
        "# что 'month_today' >= 'month' (проверять значения не нужно)\n",
        "# Результат необходимо записать в переменную 'age'\n",
        "\n",
        "if (month_today >= month):\n",
        "  age = year_today - year\n",
        "else:\n",
        "  age = year_today - year - 1\n",
        "\n",
        "print(\"Число полных лет: \", age)\n",
        "\n",
        "# --------------\n",
        "# Пример вывода:\n",
        "#\n",
        "# Введите текущий год: 2017\n",
        "# Введите текущий месяц: 5\n",
        "# Введите год рождения: 2000\n",
        "# Введите месяц рождения: 1\n",
        "# Число полных лет:  17\n",
        "#\n",
        "# Введите текущий год: 2015\n",
        "# Введите текущий месяц: 6\n",
        "# Введите год рождения: 2010\n",
        "# Введите месяц рождения: 8\n",
        "# Число полных лет:  4\n",
        "#\n",
        "# Введите текущий год: 2020\n",
        "# Введите текущий месяц: 5\n",
        "# Введите год рождения: 2000\n",
        "# Введите месяц рождения: 5\n",
        "# Число полных лет:  20\n"
      ],
      "execution_count": null,
      "outputs": [
        {
          "output_type": "stream",
          "text": [
            "Введите текущий год:2020\n",
            "Введите текущий месяц:9\n",
            "Введите год рождения:2002\n",
            "Введите месяц рождения:3\n",
            "Число полных лет:  18\n"
          ],
          "name": "stdout"
        }
      ]
    },
    {
      "cell_type": "markdown",
      "metadata": {
        "id": "aj3wcGNd5BP5"
      },
      "source": [
        "№ 4.2.5\n",
        "\n",
        "Дана точка с целыми ненулевыми координатами (x;y). Определить номер четверти координатной плоскости, которой она принадлежит."
      ]
    },
    {
      "cell_type": "code",
      "metadata": {
        "id": "AHLEl3u35DZG",
        "outputId": "581779c1-bc47-4071-937f-7e7958978fa1",
        "colab": {
          "base_uri": "https://localhost:8080/",
          "height": 68
        }
      },
      "source": [
        "# Программирование на языке высокого уровня (Python).\n",
        "# https://www.yuripetrov.ru/edu/python\n",
        "# Задание task_04_02_05.\n",
        "#\n",
        "# Выполнил: Шепелева Е.В.\n",
        "# Группа: АДЭУ - 201\n",
        "# E-mail: 10lizok2002@gmail.com\n",
        "\n",
        "\n",
        "x = int(input(\"Введите координату x: \"))\n",
        "y = int(input(\"Введите координату y: \"))\n",
        "\n",
        "if (x > 0 and y > 0):\n",
        "    print(\"1-я четверть\")\n",
        "elif (x < 0 and y > 0):\n",
        "    print(\"2-я четверть\")           \n",
        "elif (x < 0 and y < 0):\n",
        "    print(\"3-я четверть\")\n",
        "else:\n",
        "    print(\"4-я четверть\")\n",
        "\n",
        "# --------------\n",
        "# Пример вывода:\n",
        "#\n",
        "# Введите координату x: 5\n",
        "# Введите координату y: 7\n",
        "# 1-я четверть\n"
      ],
      "execution_count": null,
      "outputs": [
        {
          "output_type": "stream",
          "text": [
            "Введите координату x: 5\n",
            "Введите координату y: 7\n",
            "1-я четверть\n"
          ],
          "name": "stdout"
        }
      ]
    },
    {
      "cell_type": "markdown",
      "metadata": {
        "id": "R0K-ozyr60Uy"
      },
      "source": [
        "№ 4.2.6\n",
        "\n",
        "Даны вещественные числа a, b, c (a≠0).\n",
        "\n",
        "Решите уравнение ax2+bx+c=0. При выводе значений оставьте 1 знак после запятой."
      ]
    },
    {
      "cell_type": "code",
      "metadata": {
        "id": "ckFaR5-961Yh",
        "outputId": "e53ada38-579a-4ae5-aab8-5f59e5f3a583",
        "colab": {
          "base_uri": "https://localhost:8080/",
          "height": 85
        }
      },
      "source": [
        "# Программирование на языке высокого уровня (Python).\n",
        "# https://www.yuripetrov.ru/edu/python\n",
        "# Задание task_04_02_06.\n",
        "#\n",
        "# Выполнил: Шепелева Е.В.\n",
        "# Группа: АДЭУ - 201\n",
        "# E-mail: 10lizok2002@gmail.com\n",
        "\n",
        "a = float(input(\"a = \"))\n",
        "b = float(input(\"b = \"))\n",
        "c = float(input(\"c = \"))\n",
        "\n",
        "D = b**2 - 4 * a * c\n",
        "if  D > 0:\n",
        "  x1 = (-b - (D)**0.5) / 2 * a\n",
        "  x2 = (-b + (D)**0.5) / 2 * a\n",
        "  print(\"x1 =\", x1,',', \"x2 =\", x2)\n",
        "elif D == 0:\n",
        "  x = (-b) / 2 * a\n",
        "  print(\"x =\", x)\n",
        "else:\n",
        "  print(\"Решений нет\")\n",
        "\n",
        "\n",
        "\n",
        "# Расчет дискриминанта\n",
        "# Удалите комментарий и допишите код\n",
        "\n",
        "# Вывод решения в зависимости от значения дискриминанта\n",
        "# При выводе значений оставьте 1 знак после запятой\n",
        "# Удалите комментарий и допишите код\n",
        "\n",
        "# --------------\n",
        "# Пример вывода:\n",
        "#\n",
        "# a = 1\n",
        "# b = 2\n",
        "# c = 3\n",
        "# Решений нет\n",
        "#\n",
        "# a = 1\n",
        "# b = 2\n",
        "# c = 1\n",
        "# x = -1.0\n",
        "#\n",
        "# a = 1\n",
        "# b = 3\n",
        "# c = -4\n",
        "# x1 = -4.0, x2 = 1.0\n"
      ],
      "execution_count": null,
      "outputs": [
        {
          "output_type": "stream",
          "text": [
            "a = 1\n",
            "b = 3\n",
            "c = -4\n",
            "x1 = -4.0 , x2 = 1.0\n"
          ],
          "name": "stdout"
        }
      ]
    },
    {
      "cell_type": "markdown",
      "metadata": {
        "id": "zVOP6BA5x-ly"
      },
      "source": [
        "№ 4.2.7\n",
        "\n",
        "Дана непустая последовательность целых чисел, оканчивающаяся нулем. Найти сумму и количество введенных чисел."
      ]
    },
    {
      "cell_type": "code",
      "metadata": {
        "id": "97RK7kCuIqS0",
        "outputId": "253a97d1-45c6-44ff-e954-668b4c3bc145",
        "colab": {
          "base_uri": "https://localhost:8080/",
          "height": 221
        }
      },
      "source": [
        "# Программирование на языке высокого уровня (Python).\n",
        "# https://www.yuripetrov.ru/edu/python\n",
        "# Задание task_04_02_07.\n",
        "#\n",
        "# Выполнил: Шепелева Е.В.\n",
        "# Группа: АДЭУ - 201\n",
        "# E-mail: 10lizok2002@gmail.com\n",
        "\n",
        "\n",
        "\n",
        "nums_sum = 0  # сумма\n",
        "nums_count = 0  # количество\n",
        "\n",
        "x = 1\n",
        "while x != 0:\n",
        "   nums_count += 1 \n",
        "   nums_sum = nums_sum + x\n",
        "   print(\"Введите \", nums_count, \"-е число:\")\n",
        "   x = int(input())\n",
        "print(\"Сумма:\", nums_sum - 1)\n",
        "print(\"Колличество:\", nums_count - 1)\n",
        "\n",
        "# Удалите комментарий и допишите код\n",
        "\n",
        "# --------------\n",
        "# Пример вывода:\n",
        "#\n",
        "# Введите 1-е число: 1\n",
        "# Введите 2-е число: 2\n",
        "# Введите 3-е число: 3\n",
        "# Введите 4-е число: 4\n",
        "# Введите 5-е число: 0\n",
        "# Сумма = 10\n",
        "# Количество = 4\n",
        "#\n",
        "# Введите 1-е число: 0\n",
        "# Сумма = 0\n",
        "# Количество = 0\n"
      ],
      "execution_count": null,
      "outputs": [
        {
          "output_type": "stream",
          "text": [
            "Введите  1 -е число:\n",
            "1\n",
            "Введите  2 -е число:\n",
            "2\n",
            "Введите  3 -е число:\n",
            "3\n",
            "Введите  4 -е число:\n",
            "4\n",
            "Введите  5 -е число:\n",
            "0\n",
            "Сумма: 10\n",
            "Колличество: 4\n"
          ],
          "name": "stdout"
        }
      ]
    },
    {
      "cell_type": "markdown",
      "metadata": {
        "id": "cOMo_ZFpPpTN"
      },
      "source": [
        "№ 4.2.8\n",
        "\n",
        "Дано число n. Из чисел 0,5,10,15,20,25,... напечатать те, которые не превышают n."
      ]
    },
    {
      "cell_type": "code",
      "metadata": {
        "id": "jKpAgTvKPZMp",
        "outputId": "c9cc13b7-694c-4e8f-8a31-a051241e37a7",
        "colab": {
          "base_uri": "https://localhost:8080/",
          "height": 85
        }
      },
      "source": [
        "# Программирование на языке высокого уровня (Python).\n",
        "# https://www.yuripetrov.ru/edu/python\n",
        "# Задание task_04_02_08.\n",
        "#\n",
        "# Выполнил: Шепелева Е.В.\n",
        "# Группа: АДЭУ - 201\n",
        "# E-mail: 10lizok2002@gmail.com\n",
        "\n",
        "\n",
        "n = int(input(\"n = \"))\n",
        "i = 0\n",
        "while i <= n:\n",
        "  print(i)\n",
        "  i = i + 5\n",
        "  \n",
        "# Удалите комментарий и допишите код\n",
        "\n",
        "# --------------\n",
        "# Пример вывода:\n",
        "#\n",
        "# n = 0\n",
        "# 0\n",
        "#\n",
        "# n = 10\n",
        "# 0\n",
        "# 5\n",
        "# 10\n",
        "#\n",
        "# n = 12\n",
        "# 0\n",
        "# 5\n",
        "# 10\n"
      ],
      "execution_count": null,
      "outputs": [
        {
          "output_type": "stream",
          "text": [
            "n = 12\n",
            "0\n",
            "5\n",
            "10\n"
          ],
          "name": "stdout"
        }
      ]
    },
    {
      "cell_type": "markdown",
      "metadata": {
        "id": "tJRfiIIQR9AB"
      },
      "source": [
        "№ 4.2.9\n",
        "\n",
        "Дано вещественное число a. Найдите наименьшее натуральное n, для которого верно\n",
        "\n",
        "![Снимок.PNG](data:image/png;base64,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)"
      ]
    },
    {
      "cell_type": "code",
      "metadata": {
        "id": "MJKaSu7_SE7L",
        "outputId": "4a0bfcf1-5615-4937-c3e3-67d943b24726",
        "colab": {
          "base_uri": "https://localhost:8080/",
          "height": 50
        }
      },
      "source": [
        "# Программирование на языке высокого уровня (Python).\n",
        "# https://www.yuripetrov.ru/edu/python\n",
        "# Задание task_04_02_09.\n",
        "#\n",
        "# Выполнил: Шепелева Е.В.\n",
        "# Группа: АДЭУ - 201\n",
        "# E-mail: 10lizok2002@gmail.com\n",
        "\n",
        "\n",
        "a = float(input(\"a = \"))\n",
        "\n",
        "n = 0\n",
        "x_sum = 0.0\n",
        "while x_sum <= a:\n",
        "  n += 1\n",
        "  x_sum += 1/n\n",
        "print(\"n =\", n)\n",
        "\n",
        "\n",
        "# --------------\n",
        "# Пример вывода:\n",
        "#\n",
        "# a = 1.5\n",
        "# n = 3\n",
        "#\n",
        "# a = 2\n",
        "# n = 4\n"
      ],
      "execution_count": null,
      "outputs": [
        {
          "output_type": "stream",
          "text": [
            "a = 1.5\n",
            "n = 3\n"
          ],
          "name": "stdout"
        }
      ]
    },
    {
      "cell_type": "markdown",
      "metadata": {
        "id": "TOwIFgyh05bJ"
      },
      "source": [
        "№ 4.2.10\n",
        "\n",
        "Дано натуральное число. Определите сумму и количество его цифр."
      ]
    },
    {
      "cell_type": "code",
      "metadata": {
        "id": "57kPkmHy06bq",
        "outputId": "52bf7712-d74a-4d1e-a029-c71ce7b1ecc0",
        "colab": {
          "base_uri": "https://localhost:8080/",
          "height": 67
        }
      },
      "source": [
        "# Программирование на языке высокого уровня (Python).\n",
        "# https://www.yuripetrov.ru/edu/python\n",
        "# Задание task_04_02_10.\n",
        "#\n",
        "# Выполнил: Шепелева Е.В.\n",
        "# Группа: АДЭУ - 201\n",
        "# E-mail: 10lizok2002@gmail.com\n",
        "\n",
        "\n",
        "n = int(input(\"n = \"))\n",
        "\n",
        "n_sum = 0\n",
        "n_count = 0\n",
        "\n",
        "while n > 0:\n",
        "  n_count = 1 + n_count\n",
        "  n_sum = n % 10 + n_sum\n",
        "  n = n // 10\n",
        "print(\"Сумма =\", n_sum)\n",
        "print(\"Количество =\", n_count)\n",
        "\n",
        "# --------------\n",
        "# Пример вывода:\n",
        "#\n",
        "# n = 12345\n",
        "# Сумма = 15\n",
        "# Количество = 5\n"
      ],
      "execution_count": null,
      "outputs": [
        {
          "output_type": "stream",
          "text": [
            "n = 12345\n",
            "Сумма = 15\n",
            "Количество = 5\n"
          ],
          "name": "stdout"
        }
      ]
    },
    {
      "cell_type": "markdown",
      "metadata": {
        "id": "4nL7dn1x49dD"
      },
      "source": [
        "№ 4.2.11\n",
        "Вывести в строку 10 первых натуральных чисел, оканчивающихся на цифру k, кратных числу s и находящихся в интервале, левая граница которого равна start."
      ]
    },
    {
      "cell_type": "code",
      "metadata": {
        "id": "J0wtzIAF5AaP",
        "outputId": "77e34f27-252c-4ff4-dd82-ed88bcb59cd9",
        "colab": {
          "base_uri": "https://localhost:8080/",
          "height": 84
        }
      },
      "source": [
        "# Программирование на языке высокого уровня (Python).\n",
        "# https://www.yuripetrov.ru/edu/python\n",
        "# Задание task_04_02_11.\n",
        "#\n",
        "# Выполнил: Шепелева Е.В.\n",
        "# Группа: АДЭУ - 201\n",
        "# E-mail: 10lizok2002@gmail.com\n",
        "\n",
        "start = int(input(\"start = \"))\n",
        "k = int(input(\"k = \"))\n",
        "s = int(input(\"s = \"))\n",
        "n_count = 0\n",
        "\n",
        "\n",
        "while n_count <10:\n",
        "  if start % 10 == k and start % s == 0:\n",
        "    n_count += 1\n",
        "    print(start, end=\" \")\n",
        "  start +=1\n",
        "\n",
        "\n",
        "# --------------\n",
        "# Пример вывода:\n",
        "#\n",
        "# start = 100\n",
        "# k = 7\n",
        "# s = 9\n",
        "# 117 207 297 387 477 567 657 747 837 927\n"
      ],
      "execution_count": null,
      "outputs": [
        {
          "output_type": "stream",
          "text": [
            "start = 100\n",
            "k = 7\n",
            "s = 9\n",
            "117 207 297 387 477 567 657 747 837 927 "
          ],
          "name": "stdout"
        }
      ]
    },
    {
      "cell_type": "markdown",
      "metadata": {
        "id": "gZAvHZo9ZwsH"
      },
      "source": [
        "№ 4.2.12\n",
        "\n",
        "Даны целые числа a и b (a может быть больше b). Напечатайте:\n",
        "\n",
        "числа от минимального до максимального в строчку (разделяя пробелом);\n",
        "\n",
        "числа от максимального до минимального «столбиком»."
      ]
    },
    {
      "cell_type": "code",
      "metadata": {
        "id": "v9hkB5zVaRen",
        "outputId": "db37cfb7-23db-4f6c-ff6c-bba38adbacea",
        "colab": {
          "base_uri": "https://localhost:8080/",
          "height": 151
        }
      },
      "source": [
        "# Программирование на языке высокого уровня (Python).\n",
        "# https://www.yuripetrov.ru/edu/python\n",
        "# Задание task_04_02_12.\n",
        "#\n",
        "# Выполнил: Шепелева Е.В.\n",
        "# Группа: АДЭУ - 201\n",
        "# E-mail: 10lizok2002@gmail.com\n",
        "\n",
        "\n",
        "a = int(input(\"a =\"))\n",
        "b = int(input(\"b =\"))\n",
        "i = 0\n",
        "\n",
        "for i in range(a, b + 1):\n",
        "  print(i, end=' ')\n",
        "\n",
        "print(sep='') \n",
        "\n",
        "for i in range(b, a - 1, -1):\n",
        "  print(i)\n",
        "\n",
        "# --------------\n",
        "# Пример вывода:\n",
        "#\n",
        "# a = 1\n",
        "# b = 5\n",
        "# 1 2 3 4 5\n",
        "# 5\n",
        "# 4\n",
        "# 3\n",
        "# 2\n",
        "# 1\n"
      ],
      "execution_count": null,
      "outputs": [
        {
          "output_type": "stream",
          "text": [
            "a =1\n",
            "b =5\n",
            "1 2 3 4 5 \n",
            "5\n",
            "4\n",
            "3\n",
            "2\n",
            "1\n"
          ],
          "name": "stdout"
        }
      ]
    },
    {
      "cell_type": "markdown",
      "metadata": {
        "id": "_PpU0Nx6yQn8"
      },
      "source": [
        "№ 4.2.13\n",
        "\n",
        "Для введенных с клавиатуры положительных целых чисел a и b (a≤b) определите:\n",
        "\n",
        "-сумму всех целых чисел от a до b;\n",
        "\n",
        "-произведение всех целых чисел от a до b;\n",
        "\n",
        "-среднее арифметическое всех целых чисел от a до b;\n",
        "\n",
        "-среднее геометрическое нечетных чисел от a до b.\n",
        "\n",
        "Отрезок поиска включает сами числа a и b. При выводе вещественных результатов оставьте два знака после запятой."
      ]
    },
    {
      "cell_type": "code",
      "metadata": {
        "id": "eTZbiXA-yQ2W",
        "outputId": "fb0e14ec-8cf3-4d32-cb3f-a33b6e92dc31",
        "colab": {
          "base_uri": "https://localhost:8080/",
          "height": 134
        }
      },
      "source": [
        "# Программирование на языке высокого уровня (Python).\n",
        "# https://www.yuripetrov.ru/edu/python\n",
        "# Задание task_04_02_12.\n",
        "#\n",
        "# Выполнил: Шепелева Е.В.\n",
        "# Группа: АДЭУ - 201\n",
        "# E-mail: 10lizok2002@gmail.com\n",
        "\n",
        "from math import sqrt\n",
        "\n",
        "a = int(input(\"a=\"))\n",
        "b = int(input(\"b=\"))\n",
        "n_mult = 1\n",
        "if a <= b:\n",
        "  n_sum = sum(range(a, b+1))\n",
        "  for i in range(a, b + 1):\n",
        "    n_mult *= i\n",
        "  n_avg = sum(range(a, b+1)) / len(range(a, b+1))\n",
        "  n_avg_geom = round(sqrt(a * b), 2)\n",
        "  print(\"Сумма =\", n_sum)\n",
        "  print(\"Произведение =\", n_mult)\n",
        "  print(\"Среднее арифметическое = {}\".format(n_avg))\n",
        "  print(\"Среднее геометрическое нечетных чисел = {}\".format(n_avg_geom))\n",
        "  print(\"Отрезок =\", list(range(a, b+1)))\n",
        "else:\n",
        "  print(\"Нарушено условие\")\n",
        "\n",
        "# --------------\n",
        "# Пример вывода:\n",
        "#\n",
        "# a = 1\n",
        "# b = 5\n",
        "# Сумма = 15\n",
        "# Произведение = 120\n",
        "# Среднее арифметическое = 3.00\n",
        "# Среднее геометрическое нечетных чисел = 2.47\n",
        "\n",
        "\n",
        "\n"
      ],
      "execution_count": null,
      "outputs": [
        {
          "output_type": "stream",
          "text": [
            "a=1\n",
            "b=5\n",
            "Сумма = 15\n",
            "Произведение = 120\n",
            "Среднее арифметическое = 3.0\n",
            "Среднее геометрическое нечетных чисел = 2.24\n",
            "Отрезок = [1, 2, 3, 4, 5]\n"
          ],
          "name": "stdout"
        }
      ]
    },
    {
      "cell_type": "markdown",
      "metadata": {
        "id": "iaCAAi30DEws"
      },
      "source": [
        "№ 4.2.14\n",
        "\n",
        "Начав тренировки, лыжник в первый день пробежал s км. (s>0, вещественное число). Каждый следующий день он увеличивал пробег на p % (0<p≤100, вещественное число) от пробега предыдущего дня. Определите:\n",
        "\n",
        "-пробег лыжника за второй, третий, …, десятый день тренировок;\n",
        "\n",
        "-какой суммарный путь он пробежал за первые 10 дней тренировок.\n",
        "\n",
        "При выводе вещественных результатов оставьте один знак после запятой."
      ]
    },
    {
      "cell_type": "code",
      "metadata": {
        "id": "9YTcYpwxDE_B",
        "outputId": "33d07e2a-7de1-4985-9708-0729d4f6aae2",
        "colab": {
          "base_uri": "https://localhost:8080/",
          "height": 218
        }
      },
      "source": [
        "# Программирование на языке высокого уровня (Python).\n",
        "# https://www.yuripetrov.ru/edu/python\n",
        "# Задание task_04_02_14.\n",
        "#\n",
        "# Выполнил: Шепелева Е.В.\n",
        "# Группа: АДЭУ - 201\n",
        "# E-mail: 10lizok2002@gmail.com\n",
        "\n",
        "s = float(input(\"Пробег за первый день(км.)=\"))\n",
        "p = float(input(\"На сколько увеличивает пробег(%)=\"))\n",
        "\n",
        "total = s\n",
        "for i in range(2,11):\n",
        "  s+= (s/100)*p\n",
        "  print(\"Пробег за {}-й день:\".format(i), round(s, 1))\n",
        "  total+= s\n",
        "print(\"Суммарный пробег: {:.1f} км.\".format(total))\n",
        "\n",
        "# --------------\n",
        "# Пример вывода:\n",
        "#\n",
        "# Пробег за 1-й день (км.) = 5\n",
        "# На сколько увеличивает пробег (%) = 10\n",
        "# Пробег за 2-й день: 5.5 км.\n",
        "# Пробег за 3-й день: 6.1 км.\n",
        "# Пробег за 4-й день: 6.7 км.\n",
        "# Пробег за 5-й день: 7.3 км.\n",
        "# Пробег за 6-й день: 8.1 км.\n",
        "# Пробег за 7-й день: 8.9 км.\n",
        "# Пробег за 8-й день: 9.7 км.\n",
        "# Пробег за 9-й день: 10.7 км.\n",
        "# Пробег за 10-й день: 11.8 км.\n",
        "# Суммарный пробег: 79.7 км.\n"
      ],
      "execution_count": null,
      "outputs": [
        {
          "output_type": "stream",
          "text": [
            "Пробег за первый день(км.)=5\n",
            "На сколько увеличивает пробег(%)=10\n",
            "Пробег за 2-й день: 5.5\n",
            "Пробег за 3-й день: 6.0\n",
            "Пробег за 4-й день: 6.7\n",
            "Пробег за 5-й день: 7.3\n",
            "Пробег за 6-й день: 8.1\n",
            "Пробег за 7-й день: 8.9\n",
            "Пробег за 8-й день: 9.7\n",
            "Пробег за 9-й день: 10.7\n",
            "Пробег за 10-й день: 11.8\n",
            "Суммарный пробег: 79.7 км.\n"
          ],
          "name": "stdout"
        }
      ]
    },
    {
      "cell_type": "markdown",
      "metadata": {
        "id": "GIzPkbn14KPT"
      },
      "source": [
        "№ 4.2.15\n",
        "\n",
        "Известна масса каждого предмета в кг., загружаемого в грузовик. Определить, возможна ли перевозка груза, если грузоподъемность грузовика равна p кг."
      ]
    },
    {
      "cell_type": "code",
      "metadata": {
        "id": "_-HX_L3d4O_O",
        "outputId": "497b8207-3d29-44da-b589-a055a6d1a6b1",
        "colab": {
          "base_uri": "https://localhost:8080/",
          "height": 101
        }
      },
      "source": [
        "# Программирование на языке высокого уровня (Python).\n",
        "# https://www.yuripetrov.ru/edu/python\n",
        "# Задание task_04_02_15.\n",
        "#\n",
        "# Выполнил: Шепелева Е.В.\n",
        "# Группа: АДЭУ - 201\n",
        "# E-mail: 10lizok2002@gmail.com\n",
        "\n",
        "\n",
        "p = int(input(\"Грузоподъемность грузовика (кг.) = \"))\n",
        "n = int(input(\"Количество предметов = \"))\n",
        "total=0\n",
        "for i in range(1, n+1):\n",
        "  m=int(input(\"Масса {}-го предмета = \".format(i)))\n",
        "  total += m\n",
        "if total <= p:\n",
        "  print(\"Да\")\n",
        "else: print(\"Нет\")\n",
        "# --------------\n",
        "# Пример вывода:\n",
        "#\n",
        "# Грузоподъемность грузовика (кг.) = 10\n",
        "# Количество предметов = 2\n",
        "# Масса 1-го предмета (кг.) = 3\n",
        "# Масса 2-го предмета (кг.) = 3\n",
        "# Да\n"
      ],
      "execution_count": null,
      "outputs": [
        {
          "output_type": "stream",
          "text": [
            "Грузоподъемность грузовика (кг.) = 10\n",
            "Количество предметов = 2\n",
            "Масса 1-го предмета = 3\n",
            "Масса 2-го предмета = 3\n",
            "Да\n"
          ],
          "name": "stdout"
        }
      ]
    },
    {
      "cell_type": "markdown",
      "metadata": {
        "id": "43BGL2OB52IH"
      },
      "source": [
        "№ 4.2.16\n",
        "\n",
        "В области несколько районов. Заданы площади, засеваемые пшеницей (га.), и средняя урожайность (ц/га) в каждом районе.\n",
        "\n",
        "Определите количество пшеницы, собранное по области. При выводе вещественных результатов оставьте один знак после запятой."
      ]
    },
    {
      "cell_type": "code",
      "metadata": {
        "id": "HpEv83dC5zHW",
        "outputId": "77e21a2d-0e48-49cd-e060-6d53fdc07910",
        "colab": {
          "base_uri": "https://localhost:8080/",
          "height": 151
        }
      },
      "source": [
        "# Программирование на языке высокого уровня (Python).\n",
        "# https://www.yuripetrov.ru/edu/python\n",
        "# Задание task_04_02_16.\n",
        "#\n",
        "# Выполнил: Шепелева Е.В.\n",
        "# Группа: АДЭУ - 201\n",
        "# E-mail: 10lizok2002@gmail.com\n",
        "\n",
        "\n",
        "n = int(input(\"Количество районов = \"))\n",
        "total = 0\n",
        "for i in range(1, n+1):\n",
        " s = int(input(\"Площадь {}-го района (га)=\".format(i)))\n",
        " u = int(input(\"Урожайность в {}-м районе (ц/га)=\".format(i)))\n",
        " total += u*s\n",
        "print(\"Собрано пшеницы: {} ц.\".format(total))\n",
        "\n",
        "# --------------\n",
        "# Пример вывода:\n",
        "#\n",
        "# Количество районов = 3\n",
        "# Площадь 1-го района (га) = 4\n",
        "# Урожайность в 1-м районе (ц/га.) = 2\n",
        "# Площадь 2-го района (га) = 7\n",
        "# Урожайность в 2-м районе (ц/га.) = 3\n",
        "# Площадь 3-го района (га) = 9\n",
        "# Урожайность в 3-м районе (ц/га.) = 4\n",
        "# Собрано пшеницы: 65.0 ц"
      ],
      "execution_count": null,
      "outputs": [
        {
          "output_type": "stream",
          "text": [
            "Количество районов=3\n",
            "Площадь 1-го района (га)=2\n",
            "Урожайность в 1-м районе (ц/га)=7\n",
            "Площадь 2-го района (га)=3\n",
            "Урожайность в 2-м районе (ц/га)=9\n",
            "Площадь 3-го района (га)=4\n",
            "Урожайность в 3-м районе (ц/га)=5\n",
            "Собрано пшеницы:61ц.\n"
          ],
          "name": "stdout"
        }
      ]
    },
    {
      "cell_type": "markdown",
      "metadata": {
        "id": "z93Jpi9pDssv"
      },
      "source": [
        "№ 4.2.17\n",
        "\n",
        "Решите задачу № 4.2.7(Дана непустая последовательность целых чисел, оканчивающаяся нулем. Найти сумму и количество введенных чисел.), организовав бесконечный цикл, который бы прерывался при выполнении условия, используя оператор break."
      ]
    },
    {
      "cell_type": "code",
      "metadata": {
        "id": "ERTs2P5eEBcn",
        "outputId": "babb13d1-ded1-4bf6-98be-63f558e8aacc",
        "colab": {
          "base_uri": "https://localhost:8080/",
          "height": 218
        }
      },
      "source": [
        "# Программирование на языке высокого уровня (Python).\n",
        "# https://www.yuripetrov.ru/edu/python\n",
        "# Задание task_04_02_17.\n",
        "#\n",
        "# Выполнил: Шепелева Е.В.\n",
        "# Группа: АДЭУ - 201\n",
        "# E-mail: 10lizok2002@gmail.com\n",
        "\n",
        "\n",
        "nums_sum = 0  # сумма\n",
        "nums_count = 0  # количество\n",
        "x=1\n",
        "while x > 0:\n",
        "  print(\"Введите \", nums_count+1, \"-е число:\")\n",
        "  x= int(input())\n",
        "  if x==0:\n",
        "    break\n",
        "  nums_count += 1 \n",
        "  nums_sum += x\n",
        "\n",
        "print(\"Сумма =\", nums_sum)\n",
        "print(\"Количество =\", nums_count)\n",
        "\n",
        "# --------------\n",
        "# Пример вывода:\n",
        "#\n",
        "# Введите 1-е число: 1\n",
        "# Введите 2-е число: 2\n",
        "# Введите 3-е число: 3\n",
        "# Введите 4-е число: 4\n",
        "# Введите 5-е число: 0\n",
        "# Сумма = 10\n",
        "# Количество = 4\n",
        "#\n",
        "# Введите 1-е число: 0\n",
        "# Сумма = 0\n",
        "# Количество = 0\n"
      ],
      "execution_count": null,
      "outputs": [
        {
          "output_type": "stream",
          "text": [
            "Введите  1 -е число:\n",
            "1\n",
            "Введите  2 -е число:\n",
            "2\n",
            "Введите  3 -е число:\n",
            "3\n",
            "Введите  4 -е число:\n",
            "4\n",
            "Введите  5 -е число:\n",
            "0\n",
            "Сумма = 10\n",
            "Количество = 4\n"
          ],
          "name": "stdout"
        }
      ]
    },
    {
      "cell_type": "markdown",
      "metadata": {
        "id": "duOWyas8HFAd"
      },
      "source": [
        "№ 4.2.19\n",
        "\n",
        "Выведите на экран (в строку) все целые числа от a до b, кратные некоторому числу c."
      ]
    },
    {
      "cell_type": "code",
      "metadata": {
        "id": "jiMp_M6FHGFY",
        "outputId": "62f88dd7-dcb6-4334-b8ae-b142a1a3ae12",
        "colab": {
          "base_uri": "https://localhost:8080/",
          "height": 84
        }
      },
      "source": [
        "# Программирование на языке высокого уровня (Python).\n",
        "# https://www.yuripetrov.ru/edu/python\n",
        "# Задание task_04_02_19.\n",
        "#\n",
        "# Выполнил: Шепелева Е.В.\n",
        "# Группа: АДЭУ - 201\n",
        "# E-mail: 10lizok2002@gmail.com\n",
        "\n",
        "\n",
        "a = int(input(\"a = \"))\n",
        "b = int(input(\"b = \"))\n",
        "c = int(input(\"c = \"))\n",
        "\n",
        "for i in range(a, b+1):\n",
        "  if (i%c)==0:\n",
        "    print(i, end=' ')\n",
        "\n",
        "# --------------\n",
        "# Пример вывода:\n",
        "#\n",
        "# a = 1\n",
        "# b = 10\n",
        "# c = 2\n",
        "# 2 4 6 8 10\n"
      ],
      "execution_count": null,
      "outputs": [
        {
          "output_type": "stream",
          "text": [
            "a = 1\n",
            "b = 10\n",
            "c = 2\n",
            "2 4 6 8 10 "
          ],
          "name": "stdout"
        }
      ]
    },
    {
      "cell_type": "markdown",
      "metadata": {
        "id": "kBeoF--1IU5A"
      },
      "source": [
        "№ 4.2.20\n",
        "\n",
        "Выведите на экран (в строку) все трехзначные натуральные числа, сумма цифр которых равна целому числу n (0<n≤27)."
      ]
    },
    {
      "cell_type": "code",
      "metadata": {
        "id": "kBbBxeqHIVIV",
        "outputId": "3890f2db-4546-40bd-9264-ca9b827c9d8d",
        "colab": {
          "base_uri": "https://localhost:8080/",
          "height": 50
        }
      },
      "source": [
        "# Программирование на языке высокого уровня (Python).\n",
        "# https://www.yuripetrov.ru/edu/python\n",
        "# Задание task_04_02_20.\n",
        "#\n",
        "# Выполнил: Шепелева Е.В.\n",
        "# Группа: АДЭУ - 201\n",
        "# E-mail: 10lizok2002@gmail.com\n",
        "\n",
        "\n",
        "\n",
        "def summa_chisel(a): \n",
        "   n=0 \n",
        "   while a != 0: \n",
        "       n += a % 10 \n",
        "       a = a // 10 \n",
        "   return n \n",
        "\n",
        "n = int(input(\"n = \")) \n",
        "\n",
        "for i in range(100,1000): \n",
        "  ch = summa_chisel(i) \n",
        "  if ch == n: \n",
        "    print(i, end=\" \")\n",
        "    \n",
        "# Удалите комментарий и допишите код\n",
        "\n",
        "# --------------\n",
        "# Пример вывода:\n",
        "#\n",
        "# n = 3\n",
        "# 102 111 120 201 210 300\n"
      ],
      "execution_count": null,
      "outputs": [
        {
          "output_type": "stream",
          "text": [
            "n = 3\n",
            "102 111 120 201 210 300 "
          ],
          "name": "stdout"
        }
      ]
    }
  ]
}