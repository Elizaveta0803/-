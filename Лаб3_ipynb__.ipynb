{
  "nbformat": 4,
  "nbformat_minor": 0,
  "metadata": {
    "colab": {
      "name": "Лаб3.ipynb\"\"",
      "provenance": [],
      "collapsed_sections": []
    },
    "kernelspec": {
      "name": "python3",
      "display_name": "Python 3"
    }
  },
  "cells": [
    {
      "cell_type": "markdown",
      "metadata": {
        "id": "S9FJipLkMelG"
      },
      "source": [
        "№ 3.2.1\n",
        "\n",
        "Составьте программу, которая запрашивает у пользователя 2 целых числа и выполняет операции:\n",
        "\n",
        "арифметические: +, -, * , / , // , %, **;\n",
        "\n",
        "сравнение: <, <=, >, >=, !=, ==,\n",
        "\n",
        "выводя на экран результат каждого действия. В случае получение вещественного результата, округлите его до 2-х знаков после запятой (используя функцию round())."
      ]
    },
    {
      "cell_type": "code",
      "metadata": {
        "id": "ZB9FTx5iMld3",
        "outputId": "c5ed51e5-3a18-4f11-b8d7-1102bd363a85",
        "colab": {
          "base_uri": "https://localhost:8080/",
          "height": 272
        }
      },
      "source": [
        "# Программирование на языке высокого уровня (Python).\n",
        "# https://www.yuripetrov.ru/edu/python\n",
        "# Задание task_03_02_01.\n",
        "#\n",
        "# Выполнил: Шепелева Е.В.\n",
        "# Группа: АДЭУ-201\n",
        "\n",
        "\n",
        "a = int(input(\"a=\"))\n",
        "b = int(input(\"b=\"))\n",
        "\n",
        "print(a + b)\n",
        "print(a - b)\n",
        "print(a * b)\n",
        "print(round(a / b,2))\n",
        "print(a // b)\n",
        "print(a % b)\n",
        "print(a ** b)\n",
        "\n",
        "print(a < b)\n",
        "print(a <= b)\n",
        "print(a > b)\n",
        "print(a >= b)\n",
        "print(a != b)\n",
        "print(a == b)\n",
        "\n",
        "# --------------\n",
        "# Пример вывода:\n",
        "#\n",
        "# a=2\n",
        "# b=3\n",
        "# 5\n",
        "# -1\n",
        "# 6\n",
        "# 0.67\n",
        "# 0\n",
        "# 2\n",
        "# 8\n",
        "# True\n",
        "# True\n",
        "# False\n",
        "# False\n",
        "# True\n",
        "# False\n"
      ],
      "execution_count": null,
      "outputs": [
        {
          "output_type": "stream",
          "text": [
            "a=45\n",
            "b=10\n",
            "55\n",
            "35\n",
            "450\n",
            "4.5\n",
            "4\n",
            "5\n",
            "34050628916015625\n",
            "False\n",
            "False\n",
            "True\n",
            "True\n",
            "True\n",
            "False\n"
          ],
          "name": "stdout"
        }
      ]
    },
    {
      "cell_type": "markdown",
      "metadata": {
        "id": "qFQrpg6tO5WH"
      },
      "source": [
        "№ 3.2.2\n",
        "\n",
        "Вычислите значение следующего выражения (аргументы - целые числа и вводятся с клавиатуры):\n",
        "\n",
        "![Снимок.PNG](data:image/png;base64,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)\n",
        "\n",
        "\n",
        "Округлите результат до 3-х знаков после запятой, используя функцию round()."
      ]
    },
    {
      "cell_type": "code",
      "metadata": {
        "id": "0FoYxWx9O9Mq",
        "outputId": "fb33e27d-5123-4a4c-d9ea-f18f19009fb1",
        "colab": {
          "base_uri": "https://localhost:8080/",
          "height": 34
        }
      },
      "source": [
        "# Программирование на языке высокого уровня (Python).\n",
        "# https://www.yuripetrov.ru/edu/python\n",
        "# Задание task_03_02_02.\n",
        "#\n",
        "# Выполнил: Шепелева Е.В.\n",
        "# Группа: АДЭУ-201\n",
        "\n",
        "\n",
        "x =0 \n",
        "y =1 \n",
        "z =2 \n",
        "\n",
        "res1 = ((x**5+7)/(abs(-6)*y))**(1/3)#\n",
        "res2=7- (z % y)\n",
        "res=res1/res2\n",
        "print(round(res,2))\n",
        "\n",
        "# --------------\n",
        "# Пример вывода:\n",
        "#\n",
        "# x=0\n",
        "# y=1\n",
        "# z=2\n",
        "# 0.15\n"
      ],
      "execution_count": null,
      "outputs": [
        {
          "output_type": "stream",
          "text": [
            "0.15\n"
          ],
          "name": "stdout"
        }
      ]
    },
    {
      "cell_type": "markdown",
      "metadata": {
        "id": "eEAyo2g1SsHL"
      },
      "source": [
        "№ 3.2.3\n",
        "Дана электрическая цепь, состоящая из 2-х последовательно соединенных проводников (сопротивление каждого известно). Найти общее сопротивление цепи (округление результата необходимо выполнить до 1-го знака после запятой)."
      ]
    },
    {
      "cell_type": "code",
      "metadata": {
        "id": "EMgYLjQISwNs",
        "outputId": "1fcdc709-84f1-441e-be28-061e84b00c94",
        "colab": {
          "base_uri": "https://localhost:8080/",
          "height": 68
        }
      },
      "source": [
        "# Программирование на языке высокого уровня (Python).\n",
        "# https://www.yuripetrov.ru/edu/python\n",
        "# Задание task_03_02_03.\n",
        "#\n",
        "# Выполнил: Шепелева Е.В.\n",
        "# Группа: АДЭУ - 201\n",
        "\n",
        "\n",
        "# Сопротивление первого проводника\n",
        "r1 = float(input(\"r1=\"))\n",
        "# Сопротивление второго проводника\n",
        "r2 = float(input(\"r2=\"))\n",
        "\n",
        "# Общее сопротивление\n",
        "r = r1 + r2\n",
        "\n",
        "print(r)\n",
        "\n",
        "\n",
        "# --------------\n",
        "# Пример вывода:\n",
        "#\n",
        "# r1=12.2\n",
        "# r2=16.1\n",
        "# 28.3\n"
      ],
      "execution_count": null,
      "outputs": [
        {
          "output_type": "stream",
          "text": [
            "r1=12.2\n",
            "r2=16.1\n",
            "28.3\n"
          ],
          "name": "stdout"
        }
      ]
    },
    {
      "cell_type": "markdown",
      "metadata": {
        "id": "PCiGe6GpWiPN"
      },
      "source": [
        "№ 3.2.4\n",
        "\n",
        "Дано двузначное и трехзначное число. Для каждого выведите на экран сумму и произведение цифр."
      ]
    },
    {
      "cell_type": "code",
      "metadata": {
        "id": "fX-bS8Z4X4-f",
        "outputId": "d7701190-d5a5-4f36-d12b-2383ff82e541",
        "colab": {
          "base_uri": "https://localhost:8080/",
          "height": 119
        }
      },
      "source": [
        "# Программирование на языке высокого уровня (Python).\n",
        "# https://www.yuripetrov.ru/edu/python\n",
        "# Задание task_03_02_04.\n",
        "#\n",
        "# Выполнил: Шепелева Е.В.\n",
        "# Группа: АДЭУ -201\n",
        "\n",
        "\n",
        "# Двузначное число\n",
        "num2 = int(input(\"Введите двузначное число:\"))\n",
        "# Трехзначное число\n",
        "num3 = int(input(\"Введите трехзначное число:\"))\n",
        "\n",
        "# 1-я цифра числа 'num2'\n",
        "num2_1 = num2 // 10\n",
        "# 2-я цифра числа 'num2'\n",
        "num2_2 = num2 % 10\n",
        "\n",
        "# Сумма цифр числа 'num2'\n",
        "num2_s = num2_1 + num2_2\n",
        "# Произведение цифр числа 'num2'\n",
        "num2_p = num2_1 * num2_2\n",
        "\n",
        "# 1-я цифра числа 'num3'\n",
        "num3_1 = num3 // 100\n",
        "# 2-я цифра числа 'num3'\n",
        "num3_2 = (num3 // 10) % 10\n",
        "# 3-я цифра числа 'num3'\n",
        "num3_3 = num3 % 10\n",
        "\n",
        "# Сумма цифр числа 'num3'\n",
        "num3_s = num3_1 + num3_2 + num3_3\n",
        "# Произведение цифр числа 'num3'\n",
        "num3_p = num3_1 * num3_2 * num3_3\n",
        "\n",
        "# Вывод результата\n",
        "print(\"Двузначное число:\", num2)\n",
        "print(\"Трехзначное число:\", num3)\n",
        "print(\"Сумма и произведение цифр двузначного числа:\", num2_s, num2_p)\n",
        "print(\"Сумма и произведение цифр трехзначного числа:\", num3_s, num3_p)\n",
        "\n",
        "# --------------\n",
        "# Пример вывода:\n",
        "#\n",
        "# Двузначное число: 45\n",
        "# Трехзначное число: 456\n",
        "# Сумма и произведение цифр двузначного числа: 9 20\n",
        "# Сумма и произведение цифр трехзначного числа: 15 120\n"
      ],
      "execution_count": null,
      "outputs": [
        {
          "output_type": "stream",
          "text": [
            "Введите двузначное число:45\n",
            "Введите трехзначное число:456\n",
            "Двузначное число: 45\n",
            "Трехзначное число: 456\n",
            "Сумма и произведение цифр двузначного числа: 9 20\n",
            "Сумма и произведение цифр трехзначного числа: 15 120\n"
          ],
          "name": "stdout"
        }
      ]
    },
    {
      "cell_type": "markdown",
      "metadata": {
        "id": "QHhpPQwll_qB"
      },
      "source": [
        "№ 3.2.5\n",
        "С начала суток прошло m минут (0<m≤24∗60). Определите:\n",
        "\n",
        "целое количество часов, прошедших с начала суток;\n",
        "\n",
        "количество минут, прошедших с момента начала последнего часа.\n"
      ]
    },
    {
      "cell_type": "code",
      "metadata": {
        "id": "fHPUpCn0mIAD",
        "outputId": "7e6fb30b-0fd0-4bbd-859a-40945b876342",
        "colab": {
          "base_uri": "https://localhost:8080/",
          "height": 85
        }
      },
      "source": [
        "# Программирование на языке высокого уровня (Python).\n",
        "# https://www.yuripetrov.ru/edu/python\n",
        "# Задание task_03_02_05.\n",
        "#\n",
        "# Выполнил: Шепелева Е.В.\n",
        "# Группа: АДЭУ - 201\n",
        "\n",
        "\n",
        "# Количество минут\n",
        "m = int(input())\n",
        "\n",
        "# Количество часов, прошедших с начала суток\n",
        "h = m // 60\n",
        "# Количество минут, прошедших с момента начала последнего часа\n",
        "m2 = m % 60\n",
        "\n",
        "print(\"Количество минут, прошедшее с начала суток:\", m)\n",
        "print(\"Количество часов, прошедших с начала суток:\", h)\n",
        "print(\"Количество минут, прошедших с момента начала последнего часа:\", m2)\n",
        "# --------------\n",
        "# Пример вывода:\n",
        "#\n",
        "# Количество минут, прошедшее с начала суток: 123\n",
        "# Количество часов, прошедших с начала суток: 2\n",
        "# Количество минут, прошедших с момента начала последнего часа: 3\n"
      ],
      "execution_count": null,
      "outputs": [
        {
          "output_type": "stream",
          "text": [
            "125\n",
            "Количество минут, прошедшее с начала суток: 125\n",
            "Количество часов, прошедших с начала суток: 2\n",
            "Количество минут, прошедших с момента начала последнего часа: 5\n"
          ],
          "name": "stdout"
        }
      ]
    },
    {
      "cell_type": "markdown",
      "metadata": {
        "id": "Utq4NNQdp98R"
      },
      "source": [
        "№ 3.2.7\n",
        "Составьте программу, которая запрашивает название футбольной команды и повторяет его на экране со словами\n",
        "\n",
        "![Снимок.PNG](data:image/png;base64,iVBORw0KGgoAAAANSUhEUgAAAMIAAABICAYAAACkyiqPAAAAAXNSR0IArs4c6QAAAARnQU1BAACxjwv8YQUAAAAJcEhZcwAADsMAAA7DAcdvqGQAAAI5SURBVHhe7daBbdpAHEbxjsY8YRhYJPIgSOxQqSVLIF2/8x1gHJLQtEJI/j3pKdj4jCH/B/5xPB4LuXSFQEYhkFEIZBQCGYVARiGQUQhkFAIZhUBGIZBRCGR8SAg/f/0mn9qHhQA8M0IAghCAIAQgCAEIQgCCEIAgBCAIAQhCAIIQgCAEIAgBCEIAghCAIAQgCAEIQlgqu21ZvQzl0DeXjhCWihCuEMJ3qYO02feNUg6v67J+vYzVfrMqq1XzvL+uyfZ21zbrmtVqW8azvA1l3Y+fr6vnOq2ZD3A7R18z23+5nkMZXtZleOublfp6QjgjhO/ySQjvh7APctasM5BtXRvOuj0O6Gwwp+e4hLAv2+nA34qiX5MQ/g4hdKbf4HfdMtwYwjZ4bfDP5+rWQW7HDBnm/AqMIQ2XAb0jhPp3vakxteOuhz1MzlGfu76GGyFMQl46QvgHruKJlxBmQ9c5De5p3XY3OfarEBLQ+Pxs2D8L4fLcx9eExvOHUP+55yG7pg1Uv8e+ot9CPPAbbzp49fGt1677x1ucycCOQz7bV5mer73PG8HMfpXG4+69Naprb352y0QI/4n3g1ev7WS7xvPQT7g7hNN7mR3XPoPuB+uF8DVujYAgBCAIAQhCAIIQgCAEIAgBCEIAghCAIAQgCAEIQgCCEIAgBCAIAQhCAIIQgPCwEMhn9iEhkM+uEMgoBDIKgYxCIKMQyCgEMgqBjEIgoxDIKAQyCoGMQiCjEMgoBDIKgTweyx/sgQKpqLLePwAAAABJRU5ErkJggg==)\n",
        "\n",
        "После этого выполните:\n",
        "\n",
        "используя операцию дублирования, нарисуйте черту (набор \"-\"), длиной, равной размеру названия команды;\n",
        "\n",
        "преобразуйте строку в нижний регистр и выведите на экран:\n",
        "\n",
        "длину наименования команды;\n",
        "\n",
        "есть ли в наименовании команды буква \"п\" (True/False)?\n",
        "\n",
        "сколько раз повторяется буква \"а\"?"
      ]
    },
    {
      "cell_type": "code",
      "metadata": {
        "id": "edMZXeBYp9tG",
        "outputId": "508452bc-3536-4dab-c4f4-3f73d2e48f17",
        "colab": {
          "base_uri": "https://localhost:8080/",
          "height": 119
        }
      },
      "source": [
        "# Программирование на языке высокого уровня (Python).\n",
        "# https://www.yuripetrov.ru/edu/python\n",
        "# Задание task_03_02_07.\n",
        "#\n",
        "# Выполнил: Фамилия И.О.\n",
        "# Группа: !!!\n",
        "# E-mail: !!!\n",
        "\n",
        "\n",
        "team = str(input(\"Введите название команды: \"))\n",
        "\n",
        "print(team, \"- чемпион\")\n",
        "print(len(team) * \"-\")\n",
        "\n",
        "# Название команды в нижнем регистре\n",
        "team_lowercase = team.lower()\n",
        "print(\"Символов в названии команды:\", len(team))\n",
        "print(\"Буква \\\"п\\\" есть:\", 'п' in team_lowercase)\n",
        "print(\"Количество букв \\\"а\\\":\", team_lowercase.count('а'))\n",
        "\n",
        "\n",
        "# --------------\n",
        "# Пример вывода:\n",
        "#\n",
        "# Введите название команды: Спартак\n",
        "# Спартак - чемпион!\n",
        "# -------\n",
        "# Символов в названии команды: 7\n",
        "# Буква \"п\" есть: True\n",
        "# Количество букв \"а\": 2\n"
      ],
      "execution_count": null,
      "outputs": [
        {
          "output_type": "stream",
          "text": [
            "Введите название команды: Спартак\n",
            "Спартак - чемпион\n",
            "-------\n",
            "Символов в названии команды: 7\n",
            "Буква \"п\" есть: True\n",
            "Количество букв \"а\": 2\n"
          ],
          "name": "stdout"
        }
      ]
    },
    {
      "cell_type": "markdown",
      "metadata": {
        "id": "gtN7EILNOn1A"
      },
      "source": [
        "№ 3.2.8\n",
        "\n",
        "Составьте программу, которая запрашивает название государства и его столицы, а затем выводит сообщение:\n",
        "\n",
        "Государство - ..., столица - ...\n",
        "\n",
        "На месте многоточий должны быть выведены соответствующие значения."
      ]
    },
    {
      "cell_type": "code",
      "metadata": {
        "id": "AeQcQXQLOnEj",
        "outputId": "59f0e3d1-2115-4324-d9df-28094ecb7666",
        "colab": {
          "base_uri": "https://localhost:8080/",
          "height": 68
        }
      },
      "source": [
        "# Программирование на языке высокого уровня (Python).\n",
        "# https://www.yuripetrov.ru/edu/python\n",
        "# Задание task_03_02_08.\n",
        "#\n",
        "# Выполнил: Шепелева Е.В.\n",
        "# Группа: АДЭУ - 201\n",
        "# E-mail: 10lizok2002@gmail.com\n",
        "\n",
        "\n",
        "# Название государства\n",
        "country = str(input(\" Введите название государства: \"))\n",
        "# Название столицы\n",
        "capital = str(input(\" Введите название столицы: \"))\n",
        "\n",
        "print(\" Государство - {}, столица - {}\".format(country, capital))\n",
        "\n",
        "# --------------\n",
        "# Пример вывода:\n",
        "#\n",
        "# Введите название государства: Россия\n",
        "# Введите название столицы: Москва\n",
        "# Государство - Россия, столица - Москва \n",
        "\n"
      ],
      "execution_count": null,
      "outputs": [
        {
          "output_type": "stream",
          "text": [
            " Введите название государства: Россия\n",
            " Введите название столицы: Москва\n",
            " Государство - Россия, столица - Москва\n"
          ],
          "name": "stdout"
        }
      ]
    }
  ]
}