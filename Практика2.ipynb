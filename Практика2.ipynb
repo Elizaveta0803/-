{
  "nbformat": 4,
  "nbformat_minor": 0,
  "metadata": {
    "colab": {
      "name": "Практика2.ipynb",
      "provenance": []
    },
    "kernelspec": {
      "name": "python3",
      "display_name": "Python 3"
    }
  },
  "cells": [
    {
      "cell_type": "code",
      "metadata": {
        "id": "v-qoKevPSm9N",
        "outputId": "b63e8e43-b3b3-4dc9-c011-b08f755d7bfc",
        "colab": {
          "base_uri": "https://localhost:8080/",
          "height": 269
        }
      },
      "source": [
        "class SpaceShip:\n",
        "    def __inut__(self):\n",
        "      self.hp = 100\n",
        "      self.speed = 13000\n",
        "      self.crew = 64\n",
        "      self.power_reserve\n",
        "    def __str__(self):\n",
        "      return \"SpaceShip: {}; {}; {}; {}\".format(self.hp, self.speed, self.crew, self.power_reserve)\n",
        "    def draw(self):\n",
        "      print('+-|--------|-+')\n",
        "      print('+     ПП     +')\n",
        "      print('+     ПП     +')\n",
        "      print('+--П------П--+')\n",
        "\n",
        "class StarDestroyer(SpaceShip):\n",
        "    def __inut__(self):\n",
        "      super().__init__()\n",
        "      self.shields = 100\n",
        "      self.shields_enabled = False\n",
        "      self.weapons = [100]*15\n",
        "    def __str__(self):\n",
        "      return \"StarDestroyer: {}; {}\".format(self.shields, self.weapons)\n",
        "    def shields_on(self):\n",
        "      self.shields_enabled = True\n",
        "    def shields_off(self):\n",
        "      self.shields_enabled = False\n",
        "    def hit(self):\n",
        "      if self.shields_enabled:\n",
        "          self.shields -= 10\n",
        "      else:\n",
        "        self.hp -= 10\n",
        "    def draw(self):\n",
        "      print(\"       /\\       \")\n",
        "      print(\"      /  \\      \")\n",
        "      print(\"     /    \\     \")\n",
        "      print(\"    / |  | \\    \")\n",
        "      print(\"   /        \\   \")\n",
        "      print(\"  /   /..\\   \\  \")\n",
        "      print(\" /   +----+   \\ \")\n",
        "      print(\"+---+-+--+-+---+\")\n",
        "      print(\"    |_|  |_|    \")\n",
        "kor = StarDestroyer()\n",
        "print(kor.draw())\n",
        "kor2 = SpaceShip()\n",
        "print(kor2.draw())"
      ],
      "execution_count": null,
      "outputs": [
        {
          "output_type": "stream",
          "text": [
            "       /\\       \n",
            "      /  \\      \n",
            "     /    \\     \n",
            "    / |  | \\    \n",
            "   /        \\   \n",
            "  /   /..\\   \\  \n",
            " /   +----+   \\ \n",
            "+---+-+--+-+---+\n",
            "    |_|  |_|    \n",
            "None\n",
            "+-|--------|-+\n",
            "+     ПП     +\n",
            "+     ПП     +\n",
            "+--П------П--+\n",
            "None\n"
          ],
          "name": "stdout"
        }
      ]
    },
    {
      "cell_type": "markdown",
      "metadata": {
        "id": "GvKC_SvbgxlU"
      },
      "source": [
        "Задание 1"
      ]
    },
    {
      "cell_type": "code",
      "metadata": {
        "id": "H80B05PDZl-E",
        "outputId": "0abe675b-c5b2-4fe3-d057-0d4a481c7c05",
        "colab": {
          "base_uri": "https://localhost:8080/",
          "height": 84
        }
      },
      "source": [
        "class First:\n",
        "  color = \"red\"\n",
        "  def out(self):\n",
        "    print (self.color + \"!\")\n",
        "obj1 = First()\n",
        "obj2 = First()\n",
        "print (obj1.color)\n",
        "print (obj2.color)\n",
        "obj1.out()\n",
        "obj2.out()"
      ],
      "execution_count": null,
      "outputs": [
        {
          "output_type": "stream",
          "text": [
            "red\n",
            "red\n",
            "red!\n",
            "red!\n"
          ],
          "name": "stdout"
        }
      ]
    },
    {
      "cell_type": "markdown",
      "metadata": {
        "id": "R-KwJ9esgiO1"
      },
      "source": [
        "Задание 2, Практика 1.1"
      ]
    },
    {
      "cell_type": "code",
      "metadata": {
        "id": "e49JAE9UcPNy",
        "outputId": "645edecb-e8fc-4887-e891-535c6fddb4c3",
        "colab": {
          "base_uri": "https://localhost:8080/",
          "height": 118
        }
      },
      "source": [
        "class Second: \n",
        "  color = \"red\"\n",
        "  form = \"circle\"\n",
        "  size = 0\n",
        "  def changecolor (self,newcolor):\n",
        "     self.color = newcolor \n",
        "  def changeform (self, newform):\n",
        "     self.form = newform\n",
        "  def changesize (self, newsize):\n",
        "     self.size = newsize\n",
        "obj1 = Second()\n",
        "obj2 = Second()\n",
        "obj3 = Second()\n",
        "\n",
        "print (obj1.color, obj1.form, obj1.size) \n",
        "print (obj2.color, obj2.form, obj2.size) \n",
        "print (obj3.color, obj3.form, obj3.size) \n",
        "\n",
        "obj1.changecolor (\"green\") \n",
        "obj2.changecolor (\"blue\") \n",
        "obj2.changeform (\"oval\")\n",
        "obj3.changesize(4)\n",
        "obj2.changesize(4447)\n",
        "obj1.changesize(75746)\n",
        "obj3.changecolor(\"orange\")\n",
        "obj3.changeform(\"square\")\n",
        "\n",
        "print (obj1.color, obj1.form, obj1.size)\n",
        "print (obj2.color, obj2.form, obj2.size)\n",
        "print (obj3.color, obj3.form, obj3.size) "
      ],
      "execution_count": null,
      "outputs": [
        {
          "output_type": "stream",
          "text": [
            "red circle 0\n",
            "red circle 0\n",
            "red circle 0\n",
            "green circle 75746\n",
            "blue oval 4447\n",
            "orange square 4\n"
          ],
          "name": "stdout"
        }
      ]
    },
    {
      "cell_type": "markdown",
      "metadata": {
        "id": "ZTDBfhkHr4ME"
      },
      "source": [
        "Задание 2. Практика 1.2"
      ]
    },
    {
      "cell_type": "code",
      "metadata": {
        "id": "xvJzktJd8yT6",
        "outputId": "21969f42-5c29-4490-f7d5-f761fb511004",
        "colab": {
          "base_uri": "https://localhost:8080/",
          "height": 34
        }
      },
      "source": [
        "class Toy:\n",
        "  material = \"деревянная\"\n",
        "  color = \"красная\"\n",
        "  def change(self,newmaterial, newcolor):\n",
        "    self.material = newmaterial\n",
        "    self.color = newcolor\n",
        "obj1 = Toy()\n",
        "\n",
        "class Car:\n",
        "  color = \"желтая\"\n",
        "  def changecolor(self,color):\n",
        "   Toy.color = newcolor\n",
        "  \n",
        "obj2 = Car()\n",
        "print(obj1.material,obj2.color)\n"
      ],
      "execution_count": 5,
      "outputs": [
        {
          "output_type": "stream",
          "text": [
            "деревянная желтая\n"
          ],
          "name": "stdout"
        }
      ]
    },
    {
      "cell_type": "markdown",
      "metadata": {
        "id": "ijtguI_xhbkn"
      },
      "source": [
        "Задание 3"
      ]
    },
    {
      "cell_type": "code",
      "metadata": {
        "id": "x-JnURAygxRD",
        "outputId": "55a24c51-979c-4a5a-b3c2-193e8f7f9b59",
        "colab": {
          "base_uri": "https://localhost:8080/",
          "height": 50
        }
      },
      "source": [
        "class YesInit:\n",
        "  def __init__ (self, one, two) :\n",
        "     self.fname = one\n",
        "     self.sname = two \n",
        "     \n",
        "obj1 = YesInit (\"Peter\",\"Ok\") \n",
        "\n",
        "print (obj1.fname, obj1.sname) \n",
        "\n",
        "class NoInit: \n",
        "    def names (self, one, two): \n",
        "      self.fname = one \n",
        "      self.sname = two \n",
        "obj1 = NoInit() \n",
        "obj1.names (\"Peter\",\"Ok\") \n",
        "print (obj1.fname, obj1.sname)"
      ],
      "execution_count": null,
      "outputs": [
        {
          "output_type": "stream",
          "text": [
            "Peter Ok\n",
            "Peter Ok\n"
          ],
          "name": "stdout"
        }
      ]
    },
    {
      "cell_type": "markdown",
      "metadata": {
        "id": "gHOuiUoIietg"
      },
      "source": [
        "Задание 4"
      ]
    },
    {
      "cell_type": "code",
      "metadata": {
        "id": "LgzQrucFieJY",
        "outputId": "bb00e5df-1eef-4d36-ff76-711201ee3d09",
        "colab": {
          "base_uri": "https://localhost:8080/",
          "height": 84
        }
      },
      "source": [
        "class YesInit: \n",
        "    def __init__(self, one=\"noname\", two =\"nonametoo\"): \n",
        "      self.fname = one \n",
        "      self.sname = two \n",
        "\n",
        "obj1 = YesInit(\"Sasha\", \"Tu\") \n",
        "obj2 = YesInit() \n",
        "obj3 = YesInit(\"Spartak\") \n",
        "obj4 = YesInit(two=\"Harry\") \n",
        "\n",
        "print (obj1.fname, obj1.sname) \n",
        "print (obj2.fname, obj2.sname) \n",
        "print (obj3.fname, obj3.sname) \n",
        "print (obj4. fname, obj4.sname)"
      ],
      "execution_count": null,
      "outputs": [
        {
          "output_type": "stream",
          "text": [
            "Sasha Tu\n",
            "noname nonametoo\n",
            "Spartak nonametoo\n",
            "noname Harry\n"
          ],
          "name": "stdout"
        }
      ]
    },
    {
      "cell_type": "markdown",
      "metadata": {
        "id": "cG1vjBv_r0gw"
      },
      "source": [
        "Задание 5"
      ]
    },
    {
      "cell_type": "code",
      "metadata": {
        "id": "63hc0XtQr_UR",
        "outputId": "8fec9f1c-77fb-4d9c-b0f7-56196516f0a8",
        "colab": {
          "base_uri": "https://localhost:8080/",
          "height": 84
        }
      },
      "source": [
        "class fruits: \n",
        "    def __init__(self,w, n=0) :\n",
        "      self.what = w\n",
        "      self.numbers = n\n",
        "\n",
        "f1 = fruits(\"apple\",150)\n",
        "f2 = fruits(\"pineapple\")\n",
        "\n",
        "print(f1.what, f1.numbers)\n",
        "print(f2.what, f2.numbers)\n",
        "\n",
        "class fruits:\n",
        "    def __init__(self,w,n=0):\n",
        "      self.what = w\n",
        "      self.numbers = n\n",
        "    \n",
        "f1 = fruits(150, \"apple\")\n",
        "f2 = fruits(\"pineapple\")\n",
        "\n",
        "print(f1.what, f1.numbers)\n",
        "print(f2.what, f2.numbers)"
      ],
      "execution_count": null,
      "outputs": [
        {
          "output_type": "stream",
          "text": [
            "apple 150\n",
            "pineapple 0\n",
            "150 apple\n",
            "pineapple 0\n"
          ],
          "name": "stdout"
        }
      ]
    },
    {
      "cell_type": "markdown",
      "metadata": {
        "id": "OC81Z7mOr2f-"
      },
      "source": [
        "Задание 6"
      ]
    },
    {
      "cell_type": "code",
      "metadata": {
        "id": "iy889xDBtj-P",
        "outputId": "95cabc3f-bc89-4fb2-a3f3-a567b5cfc724",
        "colab": {
          "base_uri": "https://localhost:8080/",
          "height": 84
        }
      },
      "source": [
        "class Building:\n",
        "    def __init__(self,w,c, n=0) :\n",
        "      self.what = w \n",
        "      self.color = c \n",
        "      self.numbers = n \n",
        "      self.mwhere(n)\n",
        "    def mwhere(self, n) :\n",
        "      if n <= 0:\n",
        "        self.where = \"отсутствуют\"\n",
        "      elif 0 < n < 100:\n",
        "        self.where = \"малый склад\"\n",
        "      else:\n",
        "        self.where = \"основной склад\"\n",
        "\n",
        "    def plus(self,p):\n",
        "        self.numbers = self.numbers + p \n",
        "        self.mwhere(self.numbers) \n",
        "    def minus(self,m):\n",
        "        self.numbers = self.numbers - m \n",
        "        self.mwhere(self.numbers)\n",
        "\n",
        "m1 = Building(\"доски\", \"белые\",50)\n",
        "m2 = Building(\"доски\", \"коричневые\", 300)\n",
        "m3 = Building(\"кирпичи\",\"белые\")\n",
        "\n",
        "print(m1.what,m1.color,m1.where) \n",
        "print(m2.what,m2.color,m2.where) \n",
        "print(m3.what,m3.color,m3.where)\n",
        "\n",
        "m1.plus(500)\n",
        "print(m1.numbers, m1.where)\n"
      ],
      "execution_count": null,
      "outputs": [
        {
          "output_type": "stream",
          "text": [
            "доски белые малый склад\n",
            "доски коричневые основной склад\n",
            "кирпичи белые отсутствуют\n",
            "550 основной склад\n"
          ],
          "name": "stdout"
        }
      ]
    },
    {
      "cell_type": "markdown",
      "metadata": {
        "id": "KJ_tTH5RuaUV"
      },
      "source": [
        "Задание 6. Практика 2.1"
      ]
    },
    {
      "cell_type": "code",
      "metadata": {
        "id": "w0UUe9WpurNi",
        "outputId": "02ee113c-9b6e-4b73-b62e-765fed7e32e5",
        "colab": {
          "base_uri": "https://localhost:8080/",
          "height": 84
        }
      },
      "source": [
        "class Building:\n",
        "    def __init__(self,w,c, n=0): #Метод __init__ является конструктором, именно поэтому\n",
        "      self.what = w              #в нем не может быть if-elif-else\n",
        "      self.color = c \n",
        "      self.numbers = n \n",
        "      self.mwhere(n)\n",
        "    def mwhere(self, n):         #В данной функции мы создаем атрибут where\n",
        "      if n <= 0:\n",
        "        self.where = \"отсутствуют\"\n",
        "      elif 0 < n < 100:\n",
        "        self.where = \"малый склад\"\n",
        "      else:\n",
        "        self.where = \"основной склад\"\n",
        "\n",
        "    def plus(self,p):             #Функции для операций \n",
        "        self.numbers = self.numbers + p \n",
        "        self.mwhere(self.numbers) \n",
        "    def minus(self,m):\n",
        "        self.numbers = self.numbers - m \n",
        "        self.mwhere(self.numbers)\n",
        "\n",
        "m1 = Building(\"доски\", \"белые\",50)  #Присваивание свойств переменной\n",
        "m2 = Building(\"доски\", \"коричневые\", 300)\n",
        "m3 = Building(\"кирпичи\",\"белые\")\n",
        "\n",
        "print(m1.what,m1.color,m1.where)  #Вывод\n",
        "print(m2.what,m2.color,m2.where) \n",
        "print(m3.what,m3.color,m3.where)\n",
        "\n",
        "m1.plus(500)\n",
        "print(m1.numbers, m1.where)"
      ],
      "execution_count": 6,
      "outputs": [
        {
          "output_type": "stream",
          "text": [
            "доски белые малый склад\n",
            "доски коричневые основной склад\n",
            "кирпичи белые отсутствуют\n",
            "550 основной склад\n"
          ],
          "name": "stdout"
        }
      ]
    },
    {
      "cell_type": "markdown",
      "metadata": {
        "id": "OkOT6FOHuqme"
      },
      "source": [
        "Задание 6. Практика 2.2"
      ]
    },
    {
      "cell_type": "code",
      "metadata": {
        "id": "EApZUM71urTe",
        "outputId": "f75219d2-26ac-4435-f873-6d7d24db98c4",
        "colab": {
          "base_uri": "https://localhost:8080/",
          "height": 67
        }
      },
      "source": [
        "class Dogs:\n",
        "  def __init__(self, c, w, h):\n",
        "    self.color = c\n",
        "    self.weight = w  \n",
        "    self.height = h\n",
        "\n",
        "dog1 = Dogs(\"black\",\"5kg\",\"30cm\")\n",
        "dog2 = Dogs(\"grey\",\"3.6kg\",\"20cm\")   \n",
        "dog3 = Dogs(\"brown\",\"12kg\",\"43cm\")\n",
        "\n",
        "print(dog1.color, dog1.weight, dog1.height)\n",
        "print(dog2.color, dog2.weight, dog2.height)\n",
        "print(dog3.color, dog3.weight, dog3.height)"
      ],
      "execution_count": 8,
      "outputs": [
        {
          "output_type": "stream",
          "text": [
            "black 5kg 30cm\n",
            "grey 3.6kg 20cm\n",
            "brown 12kg 43cm\n"
          ],
          "name": "stdout"
        }
      ]
    },
    {
      "cell_type": "markdown",
      "metadata": {
        "id": "2jV-6zDBu6MQ"
      },
      "source": [
        "Задание 7"
      ]
    },
    {
      "cell_type": "code",
      "metadata": {
        "id": "qv6mPD-eu_MQ",
        "outputId": "e1b09739-655a-4f57-87ad-30430fc4729a",
        "colab": {
          "base_uri": "https://localhost:8080/",
          "height": 84
        }
      },
      "source": [
        "class Things:\n",
        "    def __init__(self,n,t):\n",
        "      self.namething = n \n",
        "      self.total = t\n",
        "\n",
        "th1 = Things(\"table\", 5) \n",
        "th2 = Things(\"computer\", 7)\n",
        "\n",
        "print(th1.namething,th1.total) # Вывод: table 5 \n",
        "print(th2.namething,th2.total) # Вывод: computer 7\n",
        "\n",
        "th1.color = \"green\" # новое свойство объекта th1\n",
        "th2.color = \"yellow\" # новое свойство объекта th2\n",
        "\n",
        "print(th1.color) # Вывод: green\n",
        "print(th2.color) # Вывод: yellow\n"
      ],
      "execution_count": null,
      "outputs": [
        {
          "output_type": "stream",
          "text": [
            "table 5\n",
            "computer 7\n",
            "green\n",
            "yellow\n"
          ],
          "name": "stdout"
        }
      ]
    },
    {
      "cell_type": "markdown",
      "metadata": {
        "id": "eBLeTogWu98k"
      },
      "source": [
        "Задание 8"
      ]
    },
    {
      "cell_type": "code",
      "metadata": {
        "id": "HJ1dVuSmvA1j",
        "outputId": "8f4adba6-7e8b-4e61-e191-abb29c324c60",
        "colab": {
          "base_uri": "https://localhost:8080/",
          "height": 151
        }
      },
      "source": [
        "class Table:\n",
        "    def __init__(self,l,w,h):\n",
        "      self.long = l\n",
        "      self.width = w \n",
        "      self.height = h \n",
        "\n",
        "    def outing(self):\n",
        "      print(self.long, self.width, self.height)\n",
        "\n",
        "    def howplaces(self, k):\n",
        "      self.howplaces = k\n",
        "      print(k)\n",
        "\n",
        "class Kitchen(Table):\n",
        "    def howplaces(self,n): \n",
        "      if n < 2:\n",
        "        print (\"It is not kitchen table\")\n",
        "      else:\n",
        "        self.places = n \n",
        "    def outplases(self):\n",
        "      print(self.places)\n",
        "\n",
        "class Worker(Table):\n",
        "    def locked(self, m):\n",
        "      if m < 1:\n",
        "        print(\"It is not desktop\")\n",
        "      else:\n",
        "        self.key = m\n",
        "        print(m)\n",
        "    color = \"brown\"\n",
        "    def changecolor(self,newcolor):\n",
        "      self.color = newcolor\n",
        "\n",
        "\n",
        "t_room1 = Kitchen(2,1,0.5) \n",
        "t_room1.outing() \n",
        "t_room1.howplaces(5) \n",
        "t_room1.outplases()\n",
        "\n",
        "\n",
        "\n",
        "t_2 = Table(1,3,0.7) \n",
        "t_2.outing()\n",
        "t_2.howplaces(8) \n",
        "\n",
        "t_3 = Worker(1.5, 2, 1)\n",
        "t_3.outing() \n",
        "t_3.locked(3)\n",
        "print(t_3.color)\n",
        "t_3.changecolor = \"black\"\n",
        "print(t_3.changecolor)"
      ],
      "execution_count": 9,
      "outputs": [
        {
          "output_type": "stream",
          "text": [
            "2 1 0.5\n",
            "5\n",
            "1 3 0.7\n",
            "8\n",
            "1.5 2 1\n",
            "3\n",
            "brown\n",
            "black\n"
          ],
          "name": "stdout"
        }
      ]
    },
    {
      "cell_type": "markdown",
      "metadata": {
        "id": "4VcakYffvF7n"
      },
      "source": [
        "Задание 8. Практика 3"
      ]
    },
    {
      "cell_type": "code",
      "metadata": {
        "id": "rog7NQjUvLCP",
        "outputId": "6ac2e19a-130e-4d55-abf8-e8ff11d870dc",
        "colab": {
          "base_uri": "https://localhost:8080/",
          "height": 84
        }
      },
      "source": [
        "class Figure:\n",
        "  color = \"white\"\n",
        "  def __init__(self, c):\n",
        "    self.color = c\n",
        "  def changecolor(self,newcolor):\n",
        "    self.color = newcolor\n",
        "class oval(Figure):\n",
        "  def __init__(self, h, l):\n",
        "    self.height = h\n",
        "    self.lenght = l\n",
        "class square(Figure):\n",
        "  def __init__(self, h, l):\n",
        "    self.height = h\n",
        "\n",
        "\n",
        "f1 = oval\n",
        "f2 = square\n",
        "print(f1.color)\n",
        "print(f2.color)\n",
        "f1.color = \"yellow\"\n",
        "f2.color = \"blue\"\n",
        "print(f1.color)\n",
        "print(f2.color)\n",
        "\n",
        "\n"
      ],
      "execution_count": null,
      "outputs": [
        {
          "output_type": "stream",
          "text": [
            "white\n",
            "white\n",
            "yellow\n",
            "blue\n"
          ],
          "name": "stdout"
        }
      ]
    }
  ]
}