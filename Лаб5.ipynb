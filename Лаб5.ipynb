{
  "nbformat": 4,
  "nbformat_minor": 0,
  "metadata": {
    "colab": {
      "name": "Лаб5.ipynb",
      "provenance": []
    },
    "kernelspec": {
      "display_name": "Python 3",
      "name": "python3"
    }
  },
  "cells": [
    {
      "cell_type": "markdown",
      "metadata": {
        "id": "rhVcPmmwM7ps"
      },
      "source": [
        "№ 5.2.1\n",
        "Определите значение\n",
        "![image.png](data:image/png;base64,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)\n",
        "где sgn - сигнум-функция, а x и y - вещественные числа:\n",
        "![image.png](data:image/png;base64,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)\n",
        "\n"
      ]
    },
    {
      "cell_type": "code",
      "metadata": {
        "id": "-N8EJoDALjHS",
        "colab": {
          "base_uri": "https://localhost:8080/",
          "height": 67
        },
        "outputId": "3f367e7c-73a9-49e1-9df3-00b4d9b5f23f"
      },
      "source": [
        "# Программирование на языке высокого уровня (Python).\n",
        "# https://www.yuripetrov.ru/edu/python\n",
        "# Задание task_05_02_01.\n",
        "#\n",
        "# Выполнил: Шепелева Е.В.\n",
        "# Группа: АДЭУ-201\n",
        "# E-mail: 10lizok2002@gmail.com\n",
        "\n",
        "\n",
        "def sgn(x):\n",
        "    if x < 0:\n",
        "        return -1\n",
        "    elif x > 0:\n",
        "        return 1\n",
        "    else:\n",
        "        return 0\n",
        "\n",
        "x = float(input(\"Введите x: \"))\n",
        "y = float(input(\"Введите y: \"))\n",
        "\n",
        "z = (sgn(x) + y**2) / (sgn(y) - abs(x)**0.5)\n",
        "print(\"Ответ:\", round(z, 2))\n",
        "\n",
        "# --------------\n",
        "# Пример вывода:\n",
        "#\n",
        "# Введите x: -9\n",
        "# Введите y: 0\n",
        "# Ответ: 0.33\n",
        "\n"
      ],
      "execution_count": null,
      "outputs": [
        {
          "output_type": "stream",
          "text": [
            "Введите x: -9\n",
            "Введите y: 0\n",
            "Ответ: 0.33\n"
          ],
          "name": "stdout"
        }
      ]
    },
    {
      "cell_type": "markdown",
      "metadata": {
        "id": "SJ21WMJCN_yp"
      },
      "source": [
        "№ 5.2.2\n",
        "\n",
        "Дан список температурных изменений в течение дня (целые числа). Известно, что измеряющее устройство иногда сбоит и записывает отсутствие температуры (значение None).\n",
        "\n",
        "Выведите среднюю температуру за наблюдаемый промежуток времени, предварительно очистив список от неопределенных значений. Гарантируется, что хотя бы одно определенное значение в списке есть."
      ]
    },
    {
      "cell_type": "code",
      "metadata": {
        "id": "T9Wf5L2bAiH-",
        "colab": {
          "base_uri": "https://localhost:8080/",
          "height": 101
        },
        "outputId": "df4b47e3-e830-4414-cb57-1a9bf4068fc4"
      },
      "source": [
        "# Программирование на языке высокого уровня (Python).\n",
        "# https://www.yuripetrov.ru/edu/python\n",
        "# Задание task_05_02_02.\n",
        "#\n",
        "# Выполнил: Шепелева Е.В.\n",
        "# Группа: АДЭУ-201\n",
        "# E-mail: 10lizok2002@gmail.com\n",
        "\n",
        "\n",
        "def sred(self):\n",
        "    return sum(self) / len(self)\n",
        "\n",
        "def cleared_data(self):\n",
        "  new_data = []\n",
        "  for x in data:\n",
        "    if (x != None):\n",
        "      new_data.append(x)\n",
        "  return new_data\n",
        "\n",
        "n = int(input(\"Кол-во измерений: \"))\n",
        "\n",
        "data = []\n",
        "for i in range(n):\n",
        "    inp = input(f\"Измерение {i+1}: \")\n",
        "    if (inp == \"-\"):\n",
        "        data.append(None)\n",
        "    else:\n",
        "        data.append(int(inp))\n",
        "\n",
        "print(\"Средняя температура:\", sred(cleared_data(data)))\n",
        "# --------------\n",
        "# Пример вывода:\n",
        "#\n",
        "# Кол-во измерений: 3\n",
        "# Измерение 1-е: 10\n",
        "# Измерение 2-е: -\n",
        "# Измерение 3-е: 20\n",
        "# Средняя температура: 15.00"
      ],
      "execution_count": null,
      "outputs": [
        {
          "output_type": "stream",
          "text": [
            "Кол-во измерений: 3\n",
            "Измерение 1: 10\n",
            "Измерение 2: -\n",
            "Измерение 3: 20\n",
            "Средняя температура: 15.0\n"
          ],
          "name": "stdout"
        }
      ]
    },
    {
      "cell_type": "markdown",
      "metadata": {
        "id": "TSj9FDnl9OaF"
      },
      "source": [
        "№ 5.2.3\n",
        "\n",
        "Выведите все счастливые номера билетов в диапазоне от a до b (положительные целые числа, a < b), если известно, что счастливым считается номер, у которого количество четных цифр равно количеству нечетных."
      ]
    },
    {
      "cell_type": "code",
      "metadata": {
        "id": "7R9836oQDoQU",
        "colab": {
          "base_uri": "https://localhost:8080/",
          "height": 67
        },
        "outputId": "78167235-5d88-4876-9509-7786af13b935"
      },
      "source": [
        "# Программирование на языке высокого уровня (Python).\n",
        "# https://www.yuripetrov.ru/edu/python\n",
        "# Задание task_05_02_03.\n",
        "#\n",
        "# Выполнил: Шепелева Е.В.\n",
        "# Группа: АДЭУ-201\n",
        "# E-mail: 10lizok2002@gmail.com\n",
        "a = int(input(\"Первый номер билета: \"))\n",
        "b = int(input(\"Последний номер билета: \"))\n",
        "\n",
        "def lucky(a,b):\n",
        "  for i in range(a,b+1):\n",
        "    s = i % 10                                    \n",
        "    s2 = i // 10                                  \n",
        "    if (s % 2 == 0 and s2 % 2 != 0) or (s2 % 2 == 0 and s % 2 != 0):                \n",
        "      print('{0}{1}'.format(s2,s),end = ' ')\n",
        "\n",
        "print(lucky(a,b))      \n",
        "# --------------\n",
        "# Пример вывода:\n",
        "#\n",
        "# Первый номер билета: 10\n",
        "# Последний номер билета: 25\n",
        "# 10 12 14 16 18 21 23 25"
      ],
      "execution_count": null,
      "outputs": [
        {
          "output_type": "stream",
          "text": [
            "Первый номер билета: 10\n",
            "Последний номер билета: 25\n",
            "10 12 14 16 18 21 23 None\n"
          ],
          "name": "stdout"
        }
      ]
    },
    {
      "cell_type": "markdown",
      "metadata": {
        "id": "4aXDwp2SMqvo"
      },
      "source": [
        "№ 5.2.4\n",
        "\n",
        "Дата характеризуется тремя натуральными числами: день, месяц и год. Учитывая, что год может быть високосным, реализуйте две функции, которые определяют вчерашнюю и завтрашнюю дату."
      ]
    },
    {
      "cell_type": "code",
      "metadata": {
        "id": "R3RVU49uA0Bd",
        "colab": {
          "base_uri": "https://localhost:8080/",
          "height": 118
        },
        "outputId": "a03c9f32-098c-4df4-ace3-ec92e65b3768"
      },
      "source": [
        "# Программирование на языке высокого уровня (Python).\n",
        "# https://www.yuripetrov.ru/edu/python\n",
        "# Задание task_05_02_04.\n",
        "#\n",
        "# Выполнил: Шепелева Е.В.\n",
        "# Группа: АДЭУ-201\n",
        "# E-mail: 10lizok2002@gmail.com\n",
        "def y_date(day,month,year):\n",
        "    i=1\n",
        "    last_day=[31,28,31,30,31,30,31,31,30,31,30,31]\n",
        "    if day==1:\n",
        "        if month==1:\n",
        "            month=12\n",
        "            day=31\n",
        "            year=year-1\n",
        "        else:\n",
        "            while i!=month:\n",
        "                i=i+1\n",
        "            print(i)\n",
        "            if (i==3) and (year%4==0):\n",
        "                    last_day[i]=last_day[i-2]+1\n",
        "                    day=last_day[i]\n",
        "            else:\n",
        "                day=last_day[i-2]\n",
        "            month=month-1\n",
        "    else:\n",
        "        day=day-1\n",
        "    return day,month,year\n",
        " \n",
        "def n_date(day,month,year):\n",
        "    i=1\n",
        "    next_day=[31,28,31,30,31,30,31,31,30,31,30,31]\n",
        "    if (day==31) and (month==12):\n",
        "        year=year+1\n",
        "        day=1\n",
        "        month=1\n",
        "    else:\n",
        "        while i!=month:\n",
        "            i=i+1\n",
        "        if (i==2) and (year%4==0) and (day==28) :\n",
        "                next_day[i]=next_day[i-1]+1\n",
        "                day=next_day[i]\n",
        "        else:\n",
        "            if day==next_day[i-1] or (i==2) and (day==29):\n",
        "                month=month+1\n",
        "                day=1\n",
        "            else:\n",
        "                day=day+1\n",
        "        return day,month,year\n",
        "day=int(input())\n",
        "month=int(input())\n",
        "year=int(input())\n",
        "print(y_date(day,month,year))\n",
        "print(n_date(day,month,year))\n"
      ],
      "execution_count": null,
      "outputs": [
        {
          "output_type": "stream",
          "text": [
            "1\n",
            "3\n",
            "2000\n",
            "3\n",
            "(29, 2, 2000)\n",
            "(2, 3, 2000)\n"
          ],
          "name": "stdout"
        }
      ]
    },
    {
      "cell_type": "markdown",
      "metadata": {
        "id": "aDy5B2czNxny"
      },
      "source": [
        "№ 5.2.6\n",
        "Дан список из чисел.\n",
        "\n",
        "Определите их НОК (наименьшее общее кратное) и НОД (наибольший общий делитель)."
      ]
    },
    {
      "cell_type": "code",
      "metadata": {
        "id": "qfw-Kf9VNrWV",
        "colab": {
          "base_uri": "https://localhost:8080/",
          "height": 67
        },
        "outputId": "b97f746a-86f1-49ed-f840-7c697fdc2ece"
      },
      "source": [
        "# Программирование на языке высокого уровня (Python).\n",
        "# https://www.yuripetrov.ru/edu/python\n",
        "# Задание task_05_02_06.\n",
        "#\n",
        "# Выполнил: Шепелева Е.В.\n",
        "# Группа: АДЭУ-201\n",
        "# E-mail: 10lizok2002@gmail.com\n",
        "def gcd(first, second):\n",
        "    while first != second:\n",
        "        if first > second:\n",
        "            first -= second\n",
        "        else:\n",
        "            second -= first\n",
        "    return first\n",
        "\n",
        "\n",
        "def lcm(first, second):\n",
        "    num = 1\n",
        "    while num % first != 0 or num % second != 0:\n",
        "        num += 1\n",
        "    return num\n",
        "\n",
        "\n",
        "def gcd_nums(nums):\n",
        "    while len(nums) != 1:\n",
        "        nums[1] = gcd(nums[0], nums[1])\n",
        "        nums.pop(0)\n",
        "    return nums[0]\n",
        "\n",
        "\n",
        "\n",
        "def lcm_nums(nums):\n",
        "    while len(nums) != 1:\n",
        "        nums[1] = lcm(nums[0], nums[1])\n",
        "        nums.pop(0)\n",
        "    return nums[0]\n",
        "\n",
        "\n",
        "\n",
        "nums = list(map(int, input(\"Введите числа через пробел: \").split()))\n",
        "nu = nums[:]\n",
        "print(\"НОД = \", gcd_nums(nums))\n",
        "print(\"НОК = \", lcm_nums(nu))\n",
        "\n",
        "\n",
        "# --------------\n",
        "# Пример вывода:\n",
        "#\n",
        "# Введите числа через пробел: 8 10 14\n",
        "# НОД = 2\n",
        "# НОК = 280\n",
        "#\n",
        "# Введите числа через пробел: 6 8 24 16\n",
        "# НОД = 2\n",
        "# НОК = 48"
      ],
      "execution_count": null,
      "outputs": [
        {
          "output_type": "stream",
          "text": [
            "Введите числа через пробел: 3 7 21 17\n",
            "НОД =  1\n",
            "НОК =  357\n"
          ],
          "name": "stdout"
        }
      ]
    },
    {
      "cell_type": "markdown",
      "metadata": {
        "id": "k-KWfHQLFYdj"
      },
      "source": [
        "№ 5.2.7\n",
        "\n",
        "Даны n предложений. Определите, сколько из них содержат хотя бы одну цифру."
      ]
    },
    {
      "cell_type": "code",
      "metadata": {
        "id": "QnmyTEJ5FWlF",
        "colab": {
          "base_uri": "https://localhost:8080/",
          "height": 101
        },
        "outputId": "b3202043-6631-40ff-e84e-305a24c43940"
      },
      "source": [
        "# Программирование на языке высокого уровня (Python).\n",
        "# https://www.yuripetrov.ru/edu/python\n",
        "# Задание task_05_02_07.\n",
        "#\n",
        "# Выполнил: Шепелева Е.В.\n",
        "# Группа: АДЭУ-201\n",
        "# E-mail: 10lizok2002@gmail.com\n",
        "def has_digits(sentence):\n",
        "    return any(map(str.isdigit, sentence))\n",
        "\n",
        "\n",
        "def sentences_with_digits_count(sentences):\n",
        "    func = sentences_with_digits_count\n",
        "    if not hasattr(func, 'count'):\n",
        "        func.count = 0\n",
        "    if has_digits(sentences):\n",
        "       func.count += 1\n",
        "    return func.count\n",
        "\n",
        "n = int(input(\"Введите количество предложений: \"))\n",
        "for i in range(1, n + 1):\n",
        "    sentence = input(f\"Введите предложение №{i}: \")\n",
        "    sentences_with_digits_count(sentence)\n",
        "print(\"Предложений с цифрой:\", sentences_with_digits_count(sentence))\n",
        "\n",
        "# --------------\n",
        "# Пример вывода:\n",
        "#\n",
        "# Введите количество предложений: 3\n",
        "# Введите предложение №1:\n",
        "# Просто текст\n",
        "# Введите предложение №2:\n",
        "# Текст с цифрой 1 (один)\n",
        "# Введите предложение №3:\n",
        "# Тут нет цифры\n",
        "# Предложений с цифрой = 1\n"
      ],
      "execution_count": null,
      "outputs": [
        {
          "output_type": "stream",
          "text": [
            "Введите количество предложений: 3\n",
            "Введите предложение №1: Fghjkl djklr;e\n",
            "Введите предложение №2: fghjklGHJK HJ 1\n",
            "Введите предложение №3: BHJKL; ,./\n",
            "Предложений с цифрой: 1\n"
          ],
          "name": "stdout"
        }
      ]
    },
    {
      "cell_type": "markdown",
      "metadata": {
        "id": "rLgL25umHhqN"
      },
      "source": [
        "№ 5.2.8\n",
        "\n",
        "Дана строка s и символ k. Реализуйте функцию, рисующую рамку из символа k вокруг данной строки, например:\n",
        "\n",
        "![image.png](data:image/png;base64,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)"
      ]
    },
    {
      "cell_type": "code",
      "metadata": {
        "id": "HC9g97StHglp",
        "colab": {
          "base_uri": "https://localhost:8080/",
          "height": 101
        },
        "outputId": "c3814f47-0fbe-48a7-a507-fc1958abe56a"
      },
      "source": [
        "# Программирование на языке высокого уровня (Python).\n",
        "# https://www.yuripetrov.ru/edu/python\n",
        "# Задание task_05_02_08.\n",
        "#\n",
        "# Выполнил: Шепелева Е.В.\n",
        "# Группа: АДЭУ-201\n",
        "# E-mail: 10lizok2002@gmail.com\n",
        "def print_with_border(string, char):\n",
        "    string_length = len(string)\n",
        "    for i in range (0, string_length + 1):\n",
        "        print(char, end = \"\")\n",
        "    print(char)\n",
        "    print(char, string, char, sep = '')\n",
        "    for i in range (0, string_length + 2):\n",
        "        print(char, end = \"\")\n",
        "\n",
        "\n",
        "s = input(\"Введите строку: \")\n",
        "k = input(\"Введите символ: \")\n",
        "print_with_border(s, k)\n",
        "\n",
        "# --------------\n",
        "# Пример вывода:\n",
        "#\n",
        "# Введите строку: Просто текст\n",
        "# Введите символ: +\n",
        "# ++++++++++++++\n",
        "# +Просто текст+\n",
        "# ++++++++++++++"
      ],
      "execution_count": null,
      "outputs": [
        {
          "output_type": "stream",
          "text": [
            "Введите строку: Просто текст\n",
            "Введите символ: +\n",
            "++++++++++++++\n",
            "+Просто текст+\n",
            "++++++++++++++"
          ],
          "name": "stdout"
        }
      ]
    },
    {
      "cell_type": "markdown",
      "metadata": {
        "id": "07_zP-VFroyJ"
      },
      "source": [
        "№ 5.2.9\n",
        "\n",
        "Напишите функции для перевода числа (N∈[2;16]):\n",
        "\n",
        "из 10-й системы счисления в N-ю;\n",
        "\n",
        "из N-й системы счисления в 10-ю.\n",
        "\n",
        "\n",
        "\n"
      ]
    },
    {
      "cell_type": "code",
      "metadata": {
        "colab": {
          "base_uri": "https://localhost:8080/"
        },
        "id": "XDE_w4fArVEQ",
        "outputId": "21f2525f-80cc-4a97-8dc4-0cd3eda7a319"
      },
      "source": [
        "# Программирование на языке высокого уровня (Python).\n",
        "# https://www.yuripetrov.ru/edu/python\n",
        "# Задание task_05_02_09.\n",
        "#\n",
        "# Выполнил: Шепелева Е.В.\n",
        "# Группа: АДЭУ-201\n",
        "# E-mail: 10lizok2002@gmail.com\n",
        "LETTERS_EX = {10: \"A\", 11: \"B\", 12: \"C\", 13: \"D\", 14: \"E\", 15: \"F\"}\n",
        "DIGITS_EX = {\"A\": 10, \"B\": 11, \"C\": 12, \"D\": 13, \"E\": 14, \"F\": 15}\n",
        "\n",
        "\n",
        "def to_base(number, base):\n",
        "    answer = []\n",
        "    while number > 0:\n",
        "        t = number % base\n",
        "        number = number // base\n",
        "        answer.append(t)\n",
        "    for n, i in enumerate(answer):\n",
        "        if(i >= 10):\n",
        "            answer[n] = LETTERS_EX.get(i)\n",
        "    answer.reverse()\n",
        "    return answer\n",
        "\n",
        "\n",
        "def from_base(number, base):\n",
        "    summ = 0\n",
        "    for n, i in enumerate(reversed(number)):\n",
        "        if(DIGITS_EX.get(i) != None):\n",
        "            summ += DIGITS_EX.get(i) * (base ** n)\n",
        "        else:\n",
        "            summ += int(i) * (base ** n)\n",
        "    return summ\n",
        "\n",
        "\n",
        "\n",
        "\n",
        "k = int(input('Введите число в десятичной системе счисления: '))\n",
        "z = int(input('Введите основание нового числа: '))\n",
        "print(to_base(k, z))\n",
        "p = input('Введите число:')\n",
        "j = int(input('Назовите систему счисления числа: '))\n",
        "\n",
        "print(from_base(p, j))\n",
        "\n",
        "\n",
        "\n",
        "# --------------\n",
        "# Пример вывода:\n",
        "#\n",
        "# Нет\n"
      ],
      "execution_count": null,
      "outputs": [
        {
          "output_type": "stream",
          "text": [
            "Введите число в десятичной системе счисления: 3\n",
            "Введите основание нового числа: 7\n",
            "[3]\n",
            "Введите число:8\n",
            "Назовите систему счисления числа: 4\n",
            "8\n"
          ],
          "name": "stdout"
        }
      ]
    },
    {
      "cell_type": "markdown",
      "metadata": {
        "id": "_96xmx29sAln"
      },
      "source": [
        ""
      ]
    },
    {
      "cell_type": "code",
      "metadata": {
        "colab": {
          "base_uri": "https://localhost:8080/"
        },
        "id": "lMEsDYnysA13",
        "outputId": "8870eb4c-9776-4763-d685-d8760b0eb3dd"
      },
      "source": [
        "# Программирование на языке высокого уровня (Python).\n",
        "# https://www.yuripetrov.ru/edu/python\n",
        "# Задание task_05_02_10.\n",
        "#\n",
        "# Выполнил: Шепелева Е.В.\n",
        "# Группа: АДЭУ-201\n",
        "# E-mail: 10lizok2002@gmail.com\n",
        "def sentence_stats(sentence):\n",
        "    d = True\n",
        "    result = list(s)\n",
        "    spisok = []\n",
        "    for i in result:\n",
        "        n = result.count(i)\n",
        "        t = f'{i}: {n}'\n",
        "        spisok.append(t)\n",
        "    spisok2 = []\n",
        "    for m in spisok:\n",
        "        d = True\n",
        "        for j in spisok2:\n",
        "            if m == j:\n",
        "                d = False\n",
        "        if d:\n",
        "            spisok2.append(m)\n",
        "\n",
        "    return spisok2\n",
        "\n",
        "\n",
        "s = input('Введите предложение: ')\n",
        "\n",
        "\n",
        "print(sentence_stats(s))\n",
        "\n",
        "\n",
        "\n",
        "\n",
        "# --------------\n",
        "# Пример вывода:\n",
        "#\n",
        "# Введите предложение: мама МЫла РамУ\n",
        "# {'л': 1, 'р': 1, 'у': 1, 'м': 4, 'а': 4, 'ы': 1, ' ': 2}"
      ],
      "execution_count": null,
      "outputs": [
        {
          "output_type": "stream",
          "text": [
            "Введите предложение: мама МЫла РамУ\n",
            "['м: 3', 'а: 4', ' : 2', 'М: 1', 'Ы: 1', 'л: 1', 'Р: 1', 'У: 1']\n"
          ],
          "name": "stdout"
        }
      ]
    }
  ]
}