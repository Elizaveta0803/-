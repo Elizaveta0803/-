{
  "nbformat": 4,
  "nbformat_minor": 0,
  "metadata": {
    "colab": {
      "name": "Untitled3.ipynb",
      "provenance": [],
      "collapsed_sections": []
    },
    "kernelspec": {
      "name": "python3",
      "display_name": "Python 3"
    }
  },
  "cells": [
    {
      "cell_type": "code",
      "metadata": {
        "id": "BJt5CSogMDeE",
        "outputId": "5b106df3-b308-4dcc-98ec-06cbf652e4a3",
        "colab": {
          "base_uri": "https://localhost:8080/",
          "height": 67
        }
      },
      "source": [
        "class Human:\n",
        "  def __init__(self, name, age, iq) :\n",
        "    self.name = name\n",
        "    self.age = age\n",
        "    if self.age < 0:\n",
        "      print(\"Oops, necromancer detected =) \")\n",
        "    self.iq = iq\n",
        "Human1=Human('Liza',-1,0) # создание экземпляра класса\n",
        "Human2=Human('Tanya',23,140)\n",
        "print(Human1.name,Human1.age,Human1.iq) # вывод свойств\n",
        "print(Human2.name,Human2.age,Human2.iq)\n",
        "\n",
        "  "
      ],
      "execution_count": null,
      "outputs": [
        {
          "output_type": "stream",
          "text": [
            "Oops, necromancer detected =) \n",
            "Liza -1 0\n",
            "Tanya 23 140\n"
          ],
          "name": "stdout"
        }
      ]
    },
    {
      "cell_type": "code",
      "metadata": {
        "id": "8E1E8-_cRb2E",
        "outputId": "61e5659e-bdb5-460c-f23a-dc314f394b14",
        "colab": {
          "base_uri": "https://localhost:8080/",
          "height": 50
        }
      },
      "source": [
        "class Point:\n",
        "  amout = 0\n",
        "\n",
        "  def __init__(self, *args) :\n",
        "    if len(args) == 2:\n",
        "      self.x = args[0]\n",
        "      self.y = args[1]\n",
        "    else:\n",
        "      self.x = self.y = 0\n",
        "    Point.amout += 1\n",
        "  def __del__(self):\n",
        "    Point.amout -= 1\n",
        "  def distance(self) :\n",
        "    return (self.x ** 2 + self.y **2)** 0.5\n",
        "  def __str__(self) :\n",
        "    return '({}; {})'.format(self.x, self.y)\n",
        "p = Point(36,42)\n",
        "print(p)\n",
        "print(round(p.distance(), 2))"
      ],
      "execution_count": null,
      "outputs": [
        {
          "output_type": "stream",
          "text": [
            "(36; 42)\n",
            "55.32\n"
          ],
          "name": "stdout"
        }
      ]
    },
    {
      "cell_type": "code",
      "metadata": {
        "id": "HE3bHfUmUoHx",
        "outputId": "d2310e15-33e6-4a94-96b0-57a18c3c67e1",
        "colab": {
          "base_uri": "https://localhost:8080/",
          "height": 67
        }
      },
      "source": [
        "from math import sqrt, pi\n",
        "class Circle:\n",
        "  def __init__(self, x, y, radius):\n",
        "    self.centre= Point(x, y)\n",
        "    self.radius = radius\n",
        "\n",
        "  def LenCircle(self):\n",
        "    return 2 * pi * radius\n",
        "\n",
        "  def Square(self):\n",
        "    return pi * radius **2\n",
        "  \n",
        "  def move(self, x, y):\n",
        "    self.centre.x = x\n",
        "    self.centre.y = y\n",
        "\n",
        "  def distant(self):\n",
        "    return sqrt(self.centre.x**2 + self.centre.y**2) \n",
        "\n",
        "  def __str__(self):\n",
        "    return \"Circle: center:{}, radius:{}\".format(self.centre, self.radius)\n",
        "\n",
        "\n",
        "class Point:\n",
        "  amout = 0\n",
        "\n",
        "  def __init__(self, *args) :\n",
        "    if len(args) == 2:\n",
        "      self.x = args[0]\n",
        "      self.y = args[1]\n",
        "    else:\n",
        "      self.x = self.y = 0\n",
        "    Point.amout += 1\n",
        "  def __del__(self):\n",
        "    Point.amout -= 1\n",
        "  def distance(self) :\n",
        "    return (self.x ** 2 + self.y **2)** 0.5\n",
        "  def __str__(self) :\n",
        "    return '({}; {})'.format(self.x, self.y)\n",
        "\n",
        "p = Point(36,42)\n",
        "print(p)\n",
        "print(round(p.distance(), 2))\n",
        "c1 = Circle(3, 4, 7)\n",
        "print(c1)\n"
      ],
      "execution_count": null,
      "outputs": [
        {
          "output_type": "stream",
          "text": [
            "(36; 42)\n",
            "55.32\n",
            "Circle: center:(3; 4), radius:7\n"
          ],
          "name": "stdout"
        }
      ]
    },
    {
      "cell_type": "code",
      "metadata": {
        "id": "8uJIpiAKQLeW",
        "outputId": "193e17b1-346f-469e-de8e-0914f13e0425",
        "colab": {
          "base_uri": "https://localhost:8080/",
          "height": 168
        }
      },
      "source": [
        "from math import sqrt, pi\n",
        "class Circle:\n",
        "  def __init__(self, x, y, radius):\n",
        "    self.centre = Point(x, y)\n",
        "    self.radius = radius\n",
        "\n",
        "  def LenCircle(self):\n",
        "    return 2 * pi * self.radius\n",
        "\n",
        "  def Square(self):\n",
        "    return pi * self.radius **2\n",
        "  \n",
        "  def move(self, x, y):\n",
        "    self.centre.x = x\n",
        "    self.centre.y = y\n",
        "\n",
        "  def distant(self):\n",
        "    return sqrt(self.centre.x**2 + self.centre.y**2) \n",
        "\n",
        "  def __str__(self):\n",
        "    return \"\\ncenter:{} \\nradius:{} \\nMoved center: ({};{})\".format(self.centre, self.radius, self.centre.x, self.centre.y)\n",
        "\n",
        "\n",
        "class Point:\n",
        "  amout = 0\n",
        "\n",
        "  def __init__(self, *args) :\n",
        "    if len(args) == 2:\n",
        "      self.x = args[0]\n",
        "      self.y = args[1]\n",
        "    else:\n",
        "      self.x = self.y = 0\n",
        "    Point.amout += 1\n",
        "  def __del__(self):\n",
        "    Point.amout -= 1\n",
        "  def distance(self) :\n",
        "    return (self.x ** 2 + self.y **2)** 0.5\n",
        "  def __str__(self) :\n",
        "    return '({}; {})'.format(self.x, self.y)\n",
        "\n",
        "p = Point(36,42)\n",
        "print(p)\n",
        "print(round(p.distance(), 2))\n",
        "\n",
        "c1 = Circle(3, 4, 7)\n",
        "print(c1)\n",
        "print(\"Длина круга:\", c1.LenCircle(), \"\\nПлощадь:\", c1.Square(), \"\\nДистанция между координатами:\", c1.distant())"
      ],
      "execution_count": null,
      "outputs": [
        {
          "output_type": "stream",
          "text": [
            "(36; 42)\n",
            "55.32\n",
            "\n",
            "center:(3; 4) \n",
            "radius:7 \n",
            "Moved center: (3;4)\n",
            "Длина круга: 43.982297150257104 \n",
            "Площадь: 153.93804002589985 \n",
            "Дистанция между координатами: 5.0\n"
          ],
          "name": "stdout"
        }
      ]
    }
  ]
}