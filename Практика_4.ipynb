{
  "nbformat": 4,
  "nbformat_minor": 0,
  "metadata": {
    "colab": {
      "name": "Практика 4.ipynb",
      "provenance": []
    },
    "kernelspec": {
      "name": "python3",
      "display_name": "Python 3"
    }
  },
  "cells": [
    {
      "cell_type": "code",
      "metadata": {
        "colab": {
          "base_uri": "https://localhost:8080/"
        },
        "id": "V19oKsZt385t",
        "outputId": "a4bd1f39-967a-4117-fb05-9f2669c5c7ed"
      },
      "source": [
        "class Employee:\n",
        "  def __init__(self, rate):\n",
        "    self.rate = rate\n",
        "\n",
        "class Admin(Employee):\n",
        "  def __init__(self, hour, rate):\n",
        "    Employee.__init__(self, rate)\n",
        "    self.hour = hour\n",
        "\n",
        "class Worker(Admin):\n",
        "  def pay(self):\n",
        "    return self.hour * self.rate\n",
        "\n",
        "class Engineer(Admin):\n",
        "  def pay(self):\n",
        "    return Worker.pay(self) + (self.hour * 50)\n",
        "\n",
        "worker = Worker(7, 200)\n",
        "engineer = Engineer(10, 250)\n",
        "print(worker.pay())\n",
        "print(engineer.pay()) "
      ],
      "execution_count": 9,
      "outputs": [
        {
          "output_type": "stream",
          "text": [
            "1400\n",
            "3000\n"
          ],
          "name": "stdout"
        }
      ]
    },
    {
      "cell_type": "code",
      "metadata": {
        "id": "fAodhqYe4TnG"
      },
      "source": [
        ""
      ],
      "execution_count": null,
      "outputs": []
    }
  ]
}